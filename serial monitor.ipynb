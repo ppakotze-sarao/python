{
 "cells": [
  {
   "cell_type": "code",
   "execution_count": 1,
   "id": "c041c47a",
   "metadata": {},
   "outputs": [],
   "source": [
    "#intent to monitor MGL efis output, to use 'printer usb cable' from square host on efis to std usb on pc\n"
   ]
  },
  {
   "cell_type": "code",
   "execution_count": 1,
   "id": "6cd91a21",
   "metadata": {},
   "outputs": [
    {
     "name": "stdout",
     "output_type": "stream",
     "text": [
      "Bus 001 Device 006: ID 8087:07dc Intel Corp. \r\n",
      "Bus 001 Device 005: ID 138a:003f Validity Sensors, Inc. VFS495 Fingerprint Reader\r\n",
      "Bus 001 Device 004: ID 0424:2514 Microchip Technology, Inc. (formerly SMSC) USB 2.0 Hub\r\n",
      "Bus 001 Device 003: ID 0c45:64d0 Microdia Integrated Webcam\r\n",
      "Bus 001 Device 007: ID 03eb:6122 Atmel Corp. \r\n",
      "Bus 001 Device 002: ID 8087:8000 Intel Corp. \r\n",
      "Bus 001 Device 001: ID 1d6b:0002 Linux Foundation 2.0 root hub\r\n",
      "Bus 003 Device 001: ID 1d6b:0003 Linux Foundation 3.0 root hub\r\n",
      "Bus 002 Device 002: ID 046d:c534 Logitech, Inc. Unifying Receiver\r\n",
      "Bus 002 Device 001: ID 1d6b:0002 Linux Foundation 2.0 root hub\r\n"
     ]
    }
   ],
   "source": [
    "!lsusb"
   ]
  },
  {
   "cell_type": "code",
   "execution_count": 2,
   "id": "a5c55416",
   "metadata": {},
   "outputs": [
    {
     "name": "stdout",
     "output_type": "stream",
     "text": [
      "[    0.200802] usbcore: registered new interface driver usbfs\r\n",
      "[    0.200802] usbcore: registered new interface driver hub\r\n",
      "[    0.200802] usbcore: registered new device driver usb\r\n",
      "[    0.256732] pci 0000:00:1d.0: quirk_usb_early_handoff+0x0/0x670 took 23457 usecs\r\n",
      "[    0.612745] usb usb1: New USB device found, idVendor=1d6b, idProduct=0002, bcdDevice= 5.04\r\n",
      "[    0.612746] usb usb1: New USB device strings: Mfr=3, Product=2, SerialNumber=1\r\n",
      "[    0.612748] usb usb1: Product: EHCI Host Controller\r\n",
      "[    0.612748] usb usb1: Manufacturer: Linux 5.4.0-84-generic ehci_hcd\r\n",
      "[    0.612749] usb usb1: SerialNumber: 0000:00:1d.0\r\n",
      "[    0.614405] usb usb2: New USB device found, idVendor=1d6b, idProduct=0002, bcdDevice= 5.04\r\n",
      "[    0.614407] usb usb2: New USB device strings: Mfr=3, Product=2, SerialNumber=1\r\n",
      "[    0.614407] usb usb2: Product: xHCI Host Controller\r\n",
      "[    0.614408] usb usb2: Manufacturer: Linux 5.4.0-84-generic xhci-hcd\r\n",
      "[    0.614409] usb usb2: SerialNumber: 0000:00:14.0\r\n",
      "[    0.615982] usb usb3: New USB device found, idVendor=1d6b, idProduct=0003, bcdDevice= 5.04\r\n",
      "[    0.615983] usb usb3: New USB device strings: Mfr=3, Product=2, SerialNumber=1\r\n",
      "[    0.615984] usb usb3: Product: xHCI Host Controller\r\n",
      "[    0.615984] usb usb3: Manufacturer: Linux 5.4.0-84-generic xhci-hcd\r\n",
      "[    0.615985] usb usb3: SerialNumber: 0000:00:14.0\r\n",
      "[    0.956687] usb 1-1: new high-speed USB device number 2 using ehci-pci\r\n",
      "[    0.956709] usb 2-2: new full-speed USB device number 2 using xhci_hcd\r\n",
      "[    1.107247] usb 2-2: New USB device found, idVendor=046d, idProduct=c534, bcdDevice=29.01\r\n",
      "[    1.107259] usb 2-2: New USB device strings: Mfr=1, Product=2, SerialNumber=0\r\n",
      "[    1.107260] usb 2-2: Product: USB Receiver\r\n",
      "[    1.107261] usb 2-2: Manufacturer: Logitech\r\n",
      "[    1.112964] usb 1-1: New USB device found, idVendor=8087, idProduct=8000, bcdDevice= 0.04\r\n",
      "[    1.112965] usb 1-1: New USB device strings: Mfr=0, Product=0, SerialNumber=0\r\n",
      "[    1.118887] usbcore: registered new interface driver usbhid\r\n",
      "[    1.118888] usbhid: USB HID core driver\r\n",
      "[    1.122924] input: Logitech USB Receiver as /devices/pci0000:00/0000:00:14.0/usb2/2-2/2-2:1.0/0003:046D:C534.0001/input/input7\r\n",
      "[    1.180886] hid-generic 0003:046D:C534.0001: input,hidraw0: USB HID v1.11 Keyboard [Logitech USB Receiver] on usb-0000:00:14.0-2/input0\r\n",
      "[    1.181138] input: Logitech USB Receiver Mouse as /devices/pci0000:00/0000:00:14.0/usb2/2-2/2-2:1.1/0003:046D:C534.0002/input/input8\r\n",
      "[    1.181276] input: Logitech USB Receiver Consumer Control as /devices/pci0000:00/0000:00:14.0/usb2/2-2/2-2:1.1/0003:046D:C534.0002/input/input9\r\n",
      "[    1.240850] input: Logitech USB Receiver System Control as /devices/pci0000:00/0000:00:14.0/usb2/2-2/2-2:1.1/0003:046D:C534.0002/input/input10\r\n",
      "[    1.240990] hid-generic 0003:046D:C534.0002: input,hiddev0,hidraw1: USB HID v1.11 Mouse [Logitech USB Receiver] on usb-0000:00:14.0-2/input1\r\n",
      "[    1.292966] logitech-djreceiver 0003:046D:C534.0001: hidraw0: USB HID v1.11 Keyboard [Logitech USB Receiver] on usb-0000:00:14.0-2/input0\r\n",
      "[    1.404683] usb 1-1.6: new high-speed USB device number 3 using ehci-pci\r\n",
      "[    1.469095] logitech-djreceiver 0003:046D:C534.0002: hiddev0,hidraw1: USB HID v1.11 Mouse [Logitech USB Receiver] on usb-0000:00:14.0-2/input1\r\n",
      "[    1.530191] input: Logitech Wireless Mouse PID:4054 Mouse as /devices/pci0000:00/0000:00:14.0/usb2/2-2/2-2:1.1/0003:046D:C534.0002/0003:046D:4054.0003/input/input13\r\n",
      "[    1.530306] hid-generic 0003:046D:4054.0003: input,hidraw2: USB HID v1.11 Mouse [Logitech Wireless Mouse PID:4054] on usb-0000:00:14.0-2/input1:2\r\n",
      "[    1.586670] usb 1-1.6: New USB device found, idVendor=0c45, idProduct=64d0, bcdDevice=42.14\r\n",
      "[    1.586672] usb 1-1.6: New USB device strings: Mfr=2, Product=1, SerialNumber=0\r\n",
      "[    1.586673] usb 1-1.6: Product: Laptop_Integrated_Webcam_HD\r\n",
      "[    1.586674] usb 1-1.6: Manufacturer: CN0767N9724874BAB54GA01\r\n",
      "[    1.672684] usb 1-1.8: new high-speed USB device number 4 using ehci-pci\r\n",
      "[    1.781164] usb 1-1.8: New USB device found, idVendor=0424, idProduct=2514, bcdDevice= 2.23\r\n",
      "[    1.781166] usb 1-1.8: New USB device strings: Mfr=0, Product=0, SerialNumber=0\r\n",
      "[    2.034030] input: Logitech Wireless Mouse as /devices/pci0000:00/0000:00:14.0/usb2/2-2/2-2:1.1/0003:046D:C534.0002/0003:046D:4054.0003/input/input17\r\n",
      "[    2.034212] logitech-hidpp-device 0003:046D:4054.0003: input,hidraw2: USB HID v1.11 Mouse [Logitech Wireless Mouse] on usb-0000:00:14.0-2/input1:2\r\n",
      "[    2.068673] usb 1-1.8.1: new full-speed USB device number 5 using ehci-pci\r\n",
      "[    2.178140] usb 1-1.8.1: New USB device found, idVendor=138a, idProduct=003f, bcdDevice= 1.04\r\n",
      "[    2.178142] usb 1-1.8.1: New USB device strings: Mfr=0, Product=0, SerialNumber=1\r\n",
      "[    2.178143] usb 1-1.8.1: SerialNumber: 00b05c358095\r\n",
      "[    2.256672] usb 1-1.8.2: new full-speed USB device number 6 using ehci-pci\r\n",
      "[    2.366774] usb 1-1.8.2: New USB device found, idVendor=8087, idProduct=07dc, bcdDevice= 0.01\r\n",
      "[    2.366777] usb 1-1.8.2: New USB device strings: Mfr=0, Product=0, SerialNumber=0\r\n",
      "[   25.089033] usbcore: registered new interface driver btusb\r\n",
      "[   27.064041] input: Laptop_Integrated_Webcam_HD: In as /devices/pci0000:00/0000:00:1d.0/usb1/1-1/1-1.6/1-1.6:1.0/input/input21\r\n",
      "[   27.064132] usbcore: registered new interface driver uvcvideo\r\n",
      "[  396.448719] usb 1-1.5: new full-speed USB device number 7 using ehci-pci\r\n",
      "[  396.563172] usb 1-1.5: New USB device found, idVendor=03eb, idProduct=6122, bcdDevice= 1.10\r\n",
      "[  396.563179] usb 1-1.5: New USB device strings: Mfr=0, Product=0, SerialNumber=0\r\n"
     ]
    }
   ],
   "source": [
    "!dmesg | grep usb\n"
   ]
  },
  {
   "cell_type": "code",
   "execution_count": 9,
   "id": "2015ffd3",
   "metadata": {
    "scrolled": false
   },
   "outputs": [
    {
     "name": "stdout",
     "output_type": "stream",
     "text": [
      "ls: cannot access '/dev/ttyU*': No such file or directory\n",
      "ls: cannot access '/dev/ttyA*': No such file or directory\n"
     ]
    }
   ],
   "source": [
    "!ls /dev/ttyU*\n",
    "!ls /dev/ttyA*"
   ]
  },
  {
   "cell_type": "code",
   "execution_count": 6,
   "id": "5fb203e1",
   "metadata": {},
   "outputs": [
    {
     "name": "stdout",
     "output_type": "stream",
     "text": [
      "/dev/ttyS0   /dev/ttyS14  /dev/ttyS2   /dev/ttyS25  /dev/ttyS30  /dev/ttyS8\r\n",
      "/dev/ttyS1   /dev/ttyS15  /dev/ttyS20  /dev/ttyS26  /dev/ttyS31  /dev/ttyS9\r\n",
      "/dev/ttyS10  /dev/ttyS16  /dev/ttyS21  /dev/ttyS27  /dev/ttyS4\r\n",
      "/dev/ttyS11  /dev/ttyS17  /dev/ttyS22  /dev/ttyS28  /dev/ttyS5\r\n",
      "/dev/ttyS12  /dev/ttyS18  /dev/ttyS23  /dev/ttyS29  /dev/ttyS6\r\n",
      "/dev/ttyS13  /dev/ttyS19  /dev/ttyS24  /dev/ttyS3   /dev/ttyS7\r\n"
     ]
    }
   ],
   "source": [
    "!ls /dev/ttyS*\n"
   ]
  },
  {
   "cell_type": "code",
   "execution_count": 8,
   "id": "05ea7c37",
   "metadata": {},
   "outputs": [
    {
     "name": "stdout",
     "output_type": "stream",
     "text": [
      "/dev/ttyS0   /dev/ttyS14  /dev/ttyS2   /dev/ttyS25  /dev/ttyS30  /dev/ttyS8\r\n",
      "/dev/ttyS1   /dev/ttyS15  /dev/ttyS20  /dev/ttyS26  /dev/ttyS31  /dev/ttyS9\r\n",
      "/dev/ttyS10  /dev/ttyS16  /dev/ttyS21  /dev/ttyS27  /dev/ttyS4\r\n",
      "/dev/ttyS11  /dev/ttyS17  /dev/ttyS22  /dev/ttyS28  /dev/ttyS5\r\n",
      "/dev/ttyS12  /dev/ttyS18  /dev/ttyS23  /dev/ttyS29  /dev/ttyS6\r\n",
      "/dev/ttyS13  /dev/ttyS19  /dev/ttyS24  /dev/ttyS3   /dev/ttyS7\r\n"
     ]
    }
   ],
   "source": [
    "!ls /dev/ttyS*\n"
   ]
  },
  {
   "cell_type": "code",
   "execution_count": 4,
   "id": "57bed800",
   "metadata": {},
   "outputs": [
    {
     "name": "stdout",
     "output_type": "stream",
     "text": [
      "\n",
      "T:  Bus=01 Lev=00 Prnt=00 Port=00 Cnt=00 Dev#=  1 Spd=480 MxCh= 3\n",
      "D:  Ver= 2.00 Cls=09(hub  ) Sub=00 Prot=00 MxPS=64 #Cfgs=  1\n",
      "P:  Vendor=1d6b ProdID=0002 Rev=05.04\n",
      "S:  Manufacturer=Linux 5.4.0-84-generic ehci_hcd\n",
      "S:  Product=EHCI Host Controller\n",
      "S:  SerialNumber=0000:00:1d.0\n",
      "C:  #Ifs= 1 Cfg#= 1 Atr=e0 MxPwr=0mA\n",
      "I:  If#=0x0 Alt= 0 #EPs= 1 Cls=09(hub  ) Sub=00 Prot=00 Driver=hub\n",
      "\n",
      "T:  Bus=01 Lev=01 Prnt=01 Port=00 Cnt=01 Dev#=  2 Spd=480 MxCh= 8\n",
      "D:  Ver= 2.00 Cls=09(hub  ) Sub=00 Prot=01 MxPS=64 #Cfgs=  1\n",
      "P:  Vendor=8087 ProdID=8000 Rev=00.04\n",
      "C:  #Ifs= 1 Cfg#= 1 Atr=e0 MxPwr=0mA\n",
      "I:  If#=0x0 Alt= 0 #EPs= 1 Cls=09(hub  ) Sub=00 Prot=00 Driver=hub\n",
      "\n",
      "T:  Bus=01 Lev=02 Prnt=02 Port=04 Cnt=01 Dev#=  7 Spd=12  MxCh= 0\n",
      "D:  Ver= 1.10 Cls=02(commc) Sub=00 Prot=00 MxPS= 8 #Cfgs=  1\n",
      "P:  Vendor=03eb ProdID=6122 Rev=01.10\n",
      "C:  #Ifs= 1 Cfg#= 1 Atr=c0 MxPwr=0mA\n",
      "I:  If#=0x0 Alt= 0 #EPs= 2 Cls=00(>ifc ) Sub=00 Prot=00 Driver=(none)\n",
      "\n",
      "T:  Bus=01 Lev=02 Prnt=02 Port=05 Cnt=02 Dev#=  3 Spd=480 MxCh= 0\n",
      "D:  Ver= 2.00 Cls=ef(misc ) Sub=02 Prot=01 MxPS=64 #Cfgs=  1\n",
      "P:  Vendor=0c45 ProdID=64d0 Rev=42.14\n",
      "S:  Manufacturer=CN0767N9724874BAB54GA01\n",
      "S:  Product=Laptop_Integrated_Webcam_HD\n",
      "C:  #Ifs= 2 Cfg#= 1 Atr=80 MxPwr=500mA\n",
      "I:  If#=0x0 Alt= 0 #EPs= 1 Cls=0e(video) Sub=01 Prot=00 Driver=uvcvideo\n",
      "I:  If#=0x1 Alt= 0 #EPs= 0 Cls=0e(video) Sub=02 Prot=00 Driver=uvcvideo\n",
      "\n",
      "T:  Bus=01 Lev=02 Prnt=02 Port=07 Cnt=03 Dev#=  4 Spd=480 MxCh= 4\n",
      "D:  Ver= 2.00 Cls=09(hub  ) Sub=00 Prot=02 MxPS=64 #Cfgs=  1\n",
      "P:  Vendor=0424 ProdID=2514 Rev=02.23\n",
      "C:  #Ifs= 1 Cfg#= 1 Atr=e0 MxPwr=2mA\n",
      "I:  If#=0x0 Alt= 1 #EPs= 1 Cls=09(hub  ) Sub=00 Prot=02 Driver=hub\n",
      "\n",
      "T:  Bus=01 Lev=03 Prnt=04 Port=00 Cnt=01 Dev#=  5 Spd=12  MxCh= 0\n",
      "D:  Ver= 1.10 Cls=ff(vend.) Sub=12 Prot=ff MxPS= 8 #Cfgs=  1\n",
      "P:  Vendor=138a ProdID=003f Rev=01.04\n",
      "S:  SerialNumber=00b05c358095\n",
      "C:  #Ifs= 1 Cfg#= 1 Atr=a0 MxPwr=100mA\n",
      "I:  If#=0x0 Alt= 0 #EPs= 4 Cls=ff(vend.) Sub=00 Prot=00 Driver=(none)\n",
      "\n",
      "T:  Bus=01 Lev=03 Prnt=04 Port=01 Cnt=02 Dev#=  6 Spd=12  MxCh= 0\n",
      "D:  Ver= 2.00 Cls=e0(wlcon) Sub=01 Prot=01 MxPS=64 #Cfgs=  1\n",
      "P:  Vendor=8087 ProdID=07dc Rev=00.01\n",
      "C:  #Ifs= 2 Cfg#= 1 Atr=e0 MxPwr=100mA\n",
      "I:  If#=0x0 Alt= 0 #EPs= 3 Cls=e0(wlcon) Sub=01 Prot=01 Driver=btusb\n",
      "I:  If#=0x1 Alt= 0 #EPs= 2 Cls=e0(wlcon) Sub=01 Prot=01 Driver=btusb\n",
      "\n",
      "T:  Bus=02 Lev=00 Prnt=00 Port=00 Cnt=00 Dev#=  1 Spd=480 MxCh= 9\n",
      "D:  Ver= 2.00 Cls=09(hub  ) Sub=00 Prot=01 MxPS=64 #Cfgs=  1\n",
      "P:  Vendor=1d6b ProdID=0002 Rev=05.04\n",
      "S:  Manufacturer=Linux 5.4.0-84-generic xhci-hcd\n",
      "S:  Product=xHCI Host Controller\n",
      "S:  SerialNumber=0000:00:14.0\n",
      "C:  #Ifs= 1 Cfg#= 1 Atr=e0 MxPwr=0mA\n",
      "I:  If#=0x0 Alt= 0 #EPs= 1 Cls=09(hub  ) Sub=00 Prot=00 Driver=hub\n",
      "\n",
      "T:  Bus=02 Lev=01 Prnt=01 Port=01 Cnt=01 Dev#=  2 Spd=12  MxCh= 0\n",
      "D:  Ver= 2.00 Cls=00(>ifc ) Sub=00 Prot=00 MxPS= 8 #Cfgs=  1\n",
      "P:  Vendor=046d ProdID=c534 Rev=29.01\n",
      "S:  Manufacturer=Logitech\n",
      "S:  Product=USB Receiver\n",
      "C:  #Ifs= 2 Cfg#= 1 Atr=a0 MxPwr=98mA\n",
      "I:  If#=0x0 Alt= 0 #EPs= 1 Cls=03(HID  ) Sub=01 Prot=01 Driver=usbhid\n",
      "I:  If#=0x1 Alt= 0 #EPs= 1 Cls=03(HID  ) Sub=01 Prot=02 Driver=usbhid\n",
      "\n",
      "T:  Bus=03 Lev=00 Prnt=00 Port=00 Cnt=00 Dev#=  1 Spd=5000 MxCh= 4\n",
      "D:  Ver= 3.00 Cls=09(hub  ) Sub=00 Prot=03 MxPS= 9 #Cfgs=  1\n",
      "P:  Vendor=1d6b ProdID=0003 Rev=05.04\n",
      "S:  Manufacturer=Linux 5.4.0-84-generic xhci-hcd\n",
      "S:  Product=xHCI Host Controller\n",
      "S:  SerialNumber=0000:00:14.0\n",
      "C:  #Ifs= 1 Cfg#= 1 Atr=e0 MxPwr=0mA\n",
      "I:  If#=0x0 Alt= 0 #EPs= 1 Cls=09(hub  ) Sub=00 Prot=00 Driver=hub\n"
     ]
    }
   ],
   "source": [
    "!usb-devices\n"
   ]
  },
  {
   "cell_type": "code",
   "execution_count": 11,
   "id": "378a1028",
   "metadata": {},
   "outputs": [
    {
     "name": "stdout",
     "output_type": "stream",
     "text": [
      "Serial<id=0x7fd27a24a250, open=True>(port='/dev/ttyS4', baudrate=14400, bytesize=8, parity='N', stopbits=1, timeout=None, xonxoff=False, rtscts=False, dsrdtr=False)\n",
      "Enter your commands below.\n",
      "Insert \"exit\" to leave the application.\n",
      "f\n",
      "help\n",
      "exit\n",
      "Exiting terminal...\n",
      "exit\n",
      "Exiting terminal...\n",
      "exit\n",
      "Exiting terminal...\n"
     ]
    },
    {
     "ename": "KeyboardInterrupt",
     "evalue": "Interrupted by user",
     "output_type": "error",
     "traceback": [
      "\u001b[0;31m---------------------------------------------------------------------------\u001b[0m",
      "\u001b[0;31mKeyboardInterrupt\u001b[0m                         Traceback (most recent call last)",
      "\u001b[0;32m/tmp/ipykernel_5077/3030342947.py\u001b[0m in \u001b[0;36m<module>\u001b[0;34m\u001b[0m\n\u001b[1;32m     16\u001b[0m \u001b[0;32mwhile\u001b[0m \u001b[0;36m1\u001b[0m \u001b[0;34m:\u001b[0m\u001b[0;34m\u001b[0m\u001b[0;34m\u001b[0m\u001b[0m\n\u001b[1;32m     17\u001b[0m     \u001b[0;31m# get keyboard input\u001b[0m\u001b[0;34m\u001b[0m\u001b[0;34m\u001b[0m\u001b[0;34m\u001b[0m\u001b[0m\n\u001b[0;32m---> 18\u001b[0;31m     \u001b[0mr_input\u001b[0m \u001b[0;34m=\u001b[0m \u001b[0minput\u001b[0m\u001b[0;34m(\u001b[0m\u001b[0;34m)\u001b[0m \u001b[0;31m#input(\">> \")\u001b[0m\u001b[0;34m\u001b[0m\u001b[0;34m\u001b[0m\u001b[0m\n\u001b[0m\u001b[1;32m     19\u001b[0m         \u001b[0;31m# Python 3 users\u001b[0m\u001b[0;34m\u001b[0m\u001b[0;34m\u001b[0m\u001b[0;34m\u001b[0m\u001b[0m\n\u001b[1;32m     20\u001b[0m         \u001b[0;31m# input = input(\">> \")\u001b[0m\u001b[0;34m\u001b[0m\u001b[0;34m\u001b[0m\u001b[0;34m\u001b[0m\u001b[0m\n",
      "\u001b[0;32m~/.local/lib/python3.8/site-packages/ipykernel/kernelbase.py\u001b[0m in \u001b[0;36mraw_input\u001b[0;34m(self, prompt)\u001b[0m\n\u001b[1;32m   1004\u001b[0m                 \u001b[0;34m\"raw_input was called, but this frontend does not support input requests.\"\u001b[0m\u001b[0;34m\u001b[0m\u001b[0;34m\u001b[0m\u001b[0m\n\u001b[1;32m   1005\u001b[0m             )\n\u001b[0;32m-> 1006\u001b[0;31m         return self._input_request(\n\u001b[0m\u001b[1;32m   1007\u001b[0m             \u001b[0mstr\u001b[0m\u001b[0;34m(\u001b[0m\u001b[0mprompt\u001b[0m\u001b[0;34m)\u001b[0m\u001b[0;34m,\u001b[0m\u001b[0;34m\u001b[0m\u001b[0;34m\u001b[0m\u001b[0m\n\u001b[1;32m   1008\u001b[0m             \u001b[0mself\u001b[0m\u001b[0;34m.\u001b[0m\u001b[0m_parent_ident\u001b[0m\u001b[0;34m[\u001b[0m\u001b[0;34m\"shell\"\u001b[0m\u001b[0;34m]\u001b[0m\u001b[0;34m,\u001b[0m\u001b[0;34m\u001b[0m\u001b[0;34m\u001b[0m\u001b[0m\n",
      "\u001b[0;32m~/.local/lib/python3.8/site-packages/ipykernel/kernelbase.py\u001b[0m in \u001b[0;36m_input_request\u001b[0;34m(self, prompt, ident, parent, password)\u001b[0m\n\u001b[1;32m   1049\u001b[0m             \u001b[0;32mexcept\u001b[0m \u001b[0mKeyboardInterrupt\u001b[0m\u001b[0;34m:\u001b[0m\u001b[0;34m\u001b[0m\u001b[0;34m\u001b[0m\u001b[0m\n\u001b[1;32m   1050\u001b[0m                 \u001b[0;31m# re-raise KeyboardInterrupt, to truncate traceback\u001b[0m\u001b[0;34m\u001b[0m\u001b[0;34m\u001b[0m\u001b[0;34m\u001b[0m\u001b[0m\n\u001b[0;32m-> 1051\u001b[0;31m                 \u001b[0;32mraise\u001b[0m \u001b[0mKeyboardInterrupt\u001b[0m\u001b[0;34m(\u001b[0m\u001b[0;34m\"Interrupted by user\"\u001b[0m\u001b[0;34m)\u001b[0m \u001b[0;32mfrom\u001b[0m \u001b[0;32mNone\u001b[0m\u001b[0;34m\u001b[0m\u001b[0;34m\u001b[0m\u001b[0m\n\u001b[0m\u001b[1;32m   1052\u001b[0m             \u001b[0;32mexcept\u001b[0m \u001b[0mException\u001b[0m\u001b[0;34m:\u001b[0m\u001b[0;34m\u001b[0m\u001b[0;34m\u001b[0m\u001b[0m\n\u001b[1;32m   1053\u001b[0m                 \u001b[0mself\u001b[0m\u001b[0;34m.\u001b[0m\u001b[0mlog\u001b[0m\u001b[0;34m.\u001b[0m\u001b[0mwarning\u001b[0m\u001b[0;34m(\u001b[0m\u001b[0;34m\"Invalid Message:\"\u001b[0m\u001b[0;34m,\u001b[0m \u001b[0mexc_info\u001b[0m\u001b[0;34m=\u001b[0m\u001b[0;32mTrue\u001b[0m\u001b[0;34m)\u001b[0m\u001b[0;34m\u001b[0m\u001b[0;34m\u001b[0m\u001b[0m\n",
      "\u001b[0;31mKeyboardInterrupt\u001b[0m: Interrupted by user"
     ]
    }
   ],
   "source": [
    "import time\n",
    "import serial\n",
    "\n",
    "# configure the serial connections (the parameters differs on the device you are connecting to)\n",
    "ser = serial.Serial(\n",
    "    port='/dev/ttyS4',\n",
    "    #port='/dev/ttyUSB1',\n",
    "    baudrate=14400,\n",
    ")\n",
    "\n",
    "ser.isOpen()\n",
    "print(ser)\n",
    "print ('Enter your commands below.\\r\\nInsert \"exit\" to leave the application.')\n",
    "\n",
    "r_input=1\n",
    "while 1 :\n",
    "    # get keyboard input\n",
    "    r_input = input() #input(\">> \")\n",
    "        # Python 3 users\n",
    "        # input = input(\">> \")\n",
    "    if r_input == 'exit':\n",
    "        ser.close()\n",
    "        print('Exiting terminal...')\n",
    "        exit()\n",
    "    else:\n",
    "        # send the character to the device\n",
    "        # (note that I happend a \\r\\n carriage return and line feed to the characters - this is requested by my device)\n",
    "        ser.write(str.encode(r_input + '\\n'))\n",
    "        out = ''\n",
    "        # let's wait one second before reading output (let's give device time to answer)\n",
    "        #time.sleep(1)\n",
    "        while ser.inWaiting() > 0:\n",
    "            \n",
    "            ser_read=(ser.readline().decode('utf-8'))#ser_read=str(ser.read(1))\n",
    "            print(ser_read)\n",
    "            out += ser_read\n",
    "\n",
    "        if out != '':\n",
    "            print (\">>\" + out)"
   ]
  },
  {
   "cell_type": "code",
   "execution_count": 21,
   "id": "ef197392",
   "metadata": {},
   "outputs": [],
   "source": [
    "ser.close()\n",
    "\n"
   ]
  }
 ],
 "metadata": {
  "kernelspec": {
   "display_name": "Python 3 (ipykernel)",
   "language": "python",
   "name": "python3"
  },
  "language_info": {
   "codemirror_mode": {
    "name": "ipython",
    "version": 3
   },
   "file_extension": ".py",
   "mimetype": "text/x-python",
   "name": "python",
   "nbconvert_exporter": "python",
   "pygments_lexer": "ipython3",
   "version": "3.8.10"
  }
 },
 "nbformat": 4,
 "nbformat_minor": 5
}
