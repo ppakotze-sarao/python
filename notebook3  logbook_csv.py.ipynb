{
 "cells": [
  {
   "cell_type": "code",
   "execution_count": null,
   "metadata": {},
   "outputs": [],
   "source": [
    "#Opens cls workbook, selects particular sheet, searches for rows which start with a datetime and writes only those rows to a csv file\n",
    "from openpyxl import load_workbook\n",
    "from openpyxl import Workbook\n",
    "\n",
    "import csv\n",
    "import sys\n",
    "import datetime"
   ]
  },
  {
   "cell_type": "code",
   "execution_count": null,
   "metadata": {},
   "outputs": [],
   "source": [
    "#wb2_name = sys.argv[1]  #\"SACAAlogbook_22032018.xlsx\")\n",
    "wb2_name = \"/home/pkotze/Downloads/SACAAlogbook_g30012020.xlsx\"\n",
    "\n",
    "wb2 = load_workbook(wb2_name)\n",
    "\n",
    "wb_new = Workbook()\n",
    "ws=wb_new.active\n",
    "\n",
    "print(wb2.get_sheet_names() )\n",
    "\n",
    "worksheet1 = wb2['Pages']\n",
    "\n",
    "# print(worksheet1['D18'].value )\n",
    "\n",
    "your_csv_file = open('/home/pkotze/logbook.csv','w')\n",
    "wr = csv.writer(your_csv_file, quoting=csv.QUOTE_ALL)\n",
    "for row in worksheet1.iter_rows():\n",
    "   #print( row[0], type(row[0].value) )\n",
    "   if  type(row[0].value ) == datetime.datetime: #only look for rows starting with date\n",
    "      lrow = []\n",
    "      #print(row)\n",
    "      for cell in row: \n",
    "        if type(cell.value) == 'unicode':\n",
    "            lrow.append(cell.value.encode('utf-8')) #force unicode to utf-8\n",
    "        else:\n",
    "            lrow.append((cell.value))\n",
    "      print(lrow)\n",
    "      wr.writerow(lrow) #need to check if csv writer is utf-8?\n",
    "print('Done')\n",
    "your_csv_file.close()   \n"
   ]
  },
  {
   "cell_type": "code",
   "execution_count": null,
   "metadata": {},
   "outputs": [],
   "source": [
    "ls logbook.csv"
   ]
  }
 ],
 "metadata": {
  "kernelspec": {
   "display_name": "Python 3",
   "language": "python",
   "name": "python3"
  },
  "language_info": {
   "codemirror_mode": {
    "name": "ipython",
    "version": 3
   },
   "file_extension": ".py",
   "mimetype": "text/x-python",
   "name": "python",
   "nbconvert_exporter": "python",
   "pygments_lexer": "ipython3",
   "version": "3.6.9"
  }
 },
 "nbformat": 4,
 "nbformat_minor": 2
}
