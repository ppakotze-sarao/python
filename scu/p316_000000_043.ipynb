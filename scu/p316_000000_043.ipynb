{
 "cells": [
  {
   "cell_type": "code",
   "execution_count": 1,
   "metadata": {
    "scrolled": true
   },
   "outputs": [],
   "source": [
    "import sculib\n",
    "from cam_sensors import sensor_data_pvsn\n",
    "#moved imports separate to see if all modules available\n",
    "\n",
    "import datetime\n",
    "import numpy as np\n",
    "\n",
    "# following to track sources\n",
    "import katpoint\n",
    "from astropy.time import Time\n",
    "from astropy import units as u  \n",
    "from astropy.coordinates import SkyCoord, EarthLocation, AltAz\n",
    "#from katpoint.refraction import refraction_offset_vlbi\n",
    "\n",
    "#some global constants for MPI?\n",
    "mpi_lat='-30:43:04.7'\n",
    "mpi_lon='21:24:46.9'\n",
    "mpi_alt=1086.0\n"
   ]
  },
  {
   "cell_type": "code",
   "execution_count": 2,
   "metadata": {},
   "outputs": [],
   "source": [
    "sim = sculib.scu()\n",
    "#sim.ip = '10.96.254.76'\n",
    "#mpi = sculib.scu()\n",
    "#mpi.ip = '10.96.64.10'\n"
   ]
  },
  {
   "cell_type": "code",
   "execution_count": 3,
   "metadata": {
    "scrolled": true
   },
   "outputs": [],
   "source": [
    "def ska_unwrap_tt(t, az, el):\n",
    "    #Basic unwrap azimuth to be negative if az angle larger than 270\n",
    "    uaz = np.array(list(map(lambda x: x-360 if x > 270 else x, az )))\n",
    "    '''\n",
    "    :#Test code\n",
    "    az = range(0,361,10)\n",
    "    unwrap_az = map(lambda x: x-360 if x > 270 else x, az )\n",
    "    '''\n",
    "    return(t, uaz, el)\n",
    "\n",
    "def add_refract_tt(t, az, el, r_temp, r_press, r_rh, o_lat, o_lon, o_alt):\n",
    "    '''\n",
    "    The refraction model is based on that implemented in ERFA, which is fast but becomes inaccurate for altitudes \n",
    "    below about 5 degrees. Near and below altitudes of 0, it can even give meaningless answers, and in this case \n",
    "    transforming to AltAz and back to another frame can give highly discrepant results. For much better numerical \n",
    "    stability, leaving the pressure at 0 (the default), disabling the refraction correction (yielding \n",
    "    “topocentric” horizontal coordinates).\n",
    "    \n",
    "    altitude for elevation and height for altitude, really?\n",
    "    '''\n",
    "    #constant  \n",
    "    #obswl is observation wavelength, optical 300 to 700nm\n",
    "    owl = 0.00000055*u.m  #owl*u.m\n",
    "    #astropy need to know the units\n",
    "    temp = r_temp*u.Celsius\n",
    "    presr = r_press/1000*u.bar\n",
    "    RH=r_rh/100    #humidity is relative to 1\n",
    "    #user in ERFA CRD\n",
    "    loc = EarthLocation.from_geodetic(lat=o_lat, lon=o_lon, height=o_alt*u.m, ellipsoid='WGS84')\n",
    "    T0 = Time(t[0], format='mjd') # Irrelevant, but necessary for astropy transformations\n",
    "    \n",
    "    #mother function, has scaling and T0\n",
    "    erfa_crd = lambda ele, sc, presr, temp, RH : AltAz(alt=ele*u.deg, az=0*u.deg, location=loc, obstime=T0).transform_to( AltAz(obstime=T0, location=loc, obswl=owl, pressure=sc*presr, temperature=sc*temp, relative_humidity=sc*RH))\n",
    "    #calls mother with two sc of 1 and 0 the convert to degrees?    \n",
    "    erfa = lambda ele, presr, temp, RH: (erfa_crd(ele,1,presr,temp,RH).alt - erfa_crd(ele,0,presr,temp,RH).alt).deg # deg to add to unrefracted altitude\n",
    "\n",
    "    refco = erfa(el, presr, temp, RH) # deg\n",
    "    rel = el + refco\n",
    "    \n",
    "    return(t, az, rel) \n",
    "\n",
    "def gen_target_tt(observer, target, UTC_start, duration, dt=0.1, verbose=False, fname=None):\n",
    "    \"\"\"\n",
    "        Convert J2000 RA,DEC to topocentric Az,El angles at time intervals as specified.\n",
    "        Note: Topocentric angle is the apparent position computed for an observer at a specific location \n",
    "        on the surface of the earth, including corrections for geocentric parallax, diurnal abberation and \n",
    "        Earth rotation angle but neglecting atmospheric refraction.\n",
    "        \n",
    "        Example:\n",
    "            R2D = 180/np.pi\n",
    "            SDQM = katpoint.Antenna(\"SDQM\", latitude=-30.7172/R2D, longitude=21.4129/R2D, altitude=1053.0) \n",
    "            # TODO: lat & lon\n",
    "            gen_target_tt(SDQM, ra = \"05:34:30\", dec = \"22:00:57\", UTC_start = datetime.datetime(2019,10,14,8,0,0), \n",
    "                            duration = 300, dt = 0.1, verbose = True)\n",
    "            \n",
    "        @param observer: [katpoint.Antenna]\n",
    "        @param target: either a string (then tgt_name) or tuple (then ra,dec) as below\n",
    "        @param tgt_name: target name for SIMBAR query [string]\n",
    "        @param ra : [string or float] Right ascension, either in 'H:M:S' or decimal degree string format, \n",
    "                     or as a float in radians.\n",
    "        @param dec : [string or float] Declination, either in 'D:M:S' or decimal degree string format,\n",
    "                     or as a float in radians.\n",
    "        @param UTC_start: now as datetime time of first coordinate in UTC\n",
    "        @param duration: [float] duration of the track table, now in seconds not hours ppak 1/7/2021.\n",
    "        @param dt: [float] interval between coordinates in the track table, in seconds.\n",
    "        @return: [list of tuples: (time, Az, El)] with time no in MJD ; \n",
    "                 topocentric Az in degrees East of North; topocentric El in degrees above the horizon.\n",
    "    \"\"\"\n",
    "    #Conversion Radian to Degrees\n",
    "    R2D = 180/np.pi  \n",
    "    \n",
    "    #Astropy SkyCoord thingy\n",
    "    tgt = SkyCoord.from_name(target).icrs\n",
    "    ra, dec = tgt.ra.rad, tgt.dec.rad \n",
    "    #Used Astropy to get ra and dec to feed into katpoint to create a katpoint target\n",
    "    target = katpoint.construct_radec_target(ra, dec)\n",
    "\n",
    "    #Get a start time from the function to create unix timestamp for T0\n",
    "    #add so many seconds of observation to it in timestamps of dt\n",
    "    #was  T0 = datetime.datetime(*UTC_start, tzinfo=datetime.timezone.utc).timestamp()\n",
    "    T0 = UTC_start.timestamp()\n",
    "    T = T0 + np.arange(0, duration, dt)\n",
    "    \n",
    "    #katpoint target get azel by feeding it unix time stamps and an observer!\n",
    "    taz, tel = target.azel(T, observer) # radians\n",
    "    #convert radians in az/el to degrees for antenna\n",
    "    taz = taz*R2D\n",
    "    tel = tel*R2D\n",
    "\n",
    "    return(Time(T, format='unix').mjd, taz, tel)\n",
    "\n",
    "def get_enviro(T0, duration):\n",
    "    '''\n",
    "    returns mean of temp, pres, humidity from T0-duration until T0\n",
    "    \n",
    "    \n",
    "    T0: time now as datetime\n",
    "    duration: how far back in past as seconds you want to get values of temp, pres, humidity\n",
    "    '''\n",
    "    #use receptor m000, it does not matter which one you use all receptors use the same temperature stations\n",
    "    receptor = 'm000'\n",
    "    #list of sensors used for reference, below we query them directly\n",
    "    sensors=['_enviro_air_pressure',\n",
    "             '_enviro_air_relative_humidity',\n",
    "             '_enviro_air_temperature']\n",
    "\n",
    "    #get time now, needed to request temp, press and relative humidity\n",
    "    timestop=T0.timestamp()\n",
    "    #time start for sensor retrieval as far back as we are going forward\n",
    "    timestart=(T0 - datetime.timedelta(seconds=duration)).timestamp()\n",
    "\n",
    "    #sensor_date_pvsn returns timestamp data as well, but not used\n",
    "    timestampv,timestamps,air_temp=sensor_data_pvsn(receptor+'_enviro_air_temperature', timestart, timestop)\n",
    "    mean_air_temp=np.mean(air_temp)\n",
    "\n",
    "    timestampv,timestamps,air_press=sensor_data_pvsn(receptor+'_enviro_air_pressure', timestart, timestop)\n",
    "    mean_air_press=np.mean(air_press)\n",
    "\n",
    "    timestampv,timestamps,air_rh=sensor_data_pvsn(receptor+'_enviro_air_relative_humidity', timestart, timestop)\n",
    "    mean_air_rh=np.mean(air_rh)\n",
    "\n",
    "    return (mean_air_temp, mean_air_press, mean_air_rh)"
   ]
  },
  {
   "cell_type": "code",
   "execution_count": 4,
   "metadata": {
    "scrolled": false
   },
   "outputs": [],
   "source": [
    "def mpi_gen_tt(target, start, track_len, dt=0.1):\n",
    "    '''\n",
    "    target: a recognised name from astropy\n",
    "    start:  a start time in datetime, default now in UTC\n",
    "    track_len: how long to track source for in seconds\n",
    "    observer hardcoded to be ska mpi from lat long defined in global constants.\n",
    "    returns: track table, unwrapped and with refraction correction.\n",
    "    '''\n",
    "    # generate track tables\n",
    "    observer_skampi = katpoint.Antenna(\"SKA_MPI\", latitude=mpi_lat, longitude=mpi_lon, altitude=mpi_alt)\n",
    "    T0 = start #\n",
    "    \n",
    "    print('Target: {} *** Start: {} *** Duration: {:.0f} seconds'.format(target, start, track_len))\n",
    "    #raw track table as from katpoint\n",
    "    raw_tt = gen_target_tt(observer_skampi, target, UTC_start=T0, duration=track_len, dt=dt)\n",
    "    #unwrapped track table as for mpi dish\n",
    "    unwrap_tt = ska_unwrap_tt(*raw_tt)\n",
    "    #refraction correction as for current sensor values?\n",
    "    temp, pres, rh = get_enviro(T0, track_len)\n",
    "    print('Temp: {:.1f} Pres: {:.1f} RH: {:1f}'.format(temp, pres, rh))\n",
    "    tt = add_refract_tt(*unwrap_tt, temp, pres, rh, mpi_lat, mpi_lon, mpi_alt)\n",
    "    return(tt)"
   ]
  },
  {
   "cell_type": "code",
   "execution_count": 5,
   "metadata": {
    "scrolled": true
   },
   "outputs": [],
   "source": [
    "sampling = 200\n",
    "    \n",
    "def mpi_track_source(scu, target, start, track_len, dt):\n",
    "    #Optical pointing tests \n",
    "    print('Test 316_000000_043')\n",
    "\n",
    "    #Revisions:\n",
    "    #0.1 initial write\n",
    "\n",
    "    #Common setup\n",
    "    config_name = 'HN_INDEX_TEST'\n",
    "    wait5 = 5\n",
    "\n",
    "    scu.debug = False\n",
    "    \n",
    "    if scu.logger_state() == 'RECORDING':\n",
    "        print('WARNING, already recording - attempting to stop and start a fresh logger')\n",
    "        scu.stop_logger()  \n",
    "        scu.wait_duration(wait5)\n",
    "    if scu.logger_state() == 'STOPPED':\n",
    "        print('Starting logger with config: {}'.format(config_name))\n",
    "        scu.start_logger(config_name)\n",
    "        scu.wait_duration(wait5)\n",
    "    tt=mpi_gen_tt(target, start, track_len, dt)\n",
    "    #print(tt)\n",
    "    scu.acu_ska_track(sim.format_body(*tt))\n",
    "    scu.wait_duration(10)\n",
    "    \n",
    "def mpi_track_offset(scu, az_offset, el_offset):\n",
    "    #ok so we have a running track, can we add some offset to it???\n",
    "    scu.debug = False\n",
    "    print('CURRENT OFFSET')\n",
    "    print('Az: {} *** El: {} \\n'.format(scu.status_Value(\"acu.tracking.act_stat_offset_value_az\"), \n",
    "                                     scu.status_Value(\"acu.tracking.act_stat_offset_value_el\")))\n",
    "    scu.status_Value(\"acu.tracking.act_stat_offset_value_az\")\n",
    "    scu.status_Value(\"acu.tracking.act_stat_offset_value_el\")\n",
    "    \n",
    "    scu.load_static_offset(az_offset, el_offset)\n",
    "    scu.wait_duration(1)\n",
    "    print('\\n NEW OFFSET')\n",
    "    print('Az: {} *** El: {}'.format(scu.status_Value(\"acu.tracking.act_stat_offset_value_az\"), \n",
    "                                     scu.status_Value(\"acu.tracking.act_stat_offset_value_el\")))\n",
    "\n",
    "def mpi_save_tracklog(scu, target):\n",
    "    wait5 = 5\n",
    "\n",
    "    #This block required to stop, rename and save to disk the track logs\n",
    "    #Step x\n",
    "    scu.stop_logger()\n",
    "    scu.wait_duration(wait5)\n",
    "    print(scu.logger_state())\n",
    "\n",
    "    #Step x\n",
    "    print('Extract the data on the SCU @ 5Hz sampling')\n",
    "    scu.save_session('316_000000_043_' + target , interval_ms = sampling)\n",
    "    "
   ]
  },
  {
   "cell_type": "code",
   "execution_count": 6,
   "metadata": {
    "scrolled": true
   },
   "outputs": [
    {
     "name": "stdout",
     "output_type": "stream",
     "text": [
      "Test 316_000000_043\n",
      "logger state \n"
     ]
    },
    {
     "ename": "ConnectionError",
     "evalue": "HTTPConnectionPool(host='localhost', port=8080): Max retries exceeded with url: /datalogging/currentState (Caused by NewConnectionError('<urllib3.connection.HTTPConnection object at 0x7f3fd2de6a90>: Failed to establish a new connection: [Errno 111] Connection refused',))",
     "output_type": "error",
     "traceback": [
      "\u001b[0;31m---------------------------------------------------------------------------\u001b[0m",
      "\u001b[0;31mConnectionRefusedError\u001b[0m                    Traceback (most recent call last)",
      "\u001b[0;32m~/.local/lib/python3.6/site-packages/urllib3/connection.py\u001b[0m in \u001b[0;36m_new_conn\u001b[0;34m(self)\u001b[0m\n\u001b[1;32m    159\u001b[0m             conn = connection.create_connection(\n\u001b[0;32m--> 160\u001b[0;31m                 \u001b[0;34m(\u001b[0m\u001b[0mself\u001b[0m\u001b[0;34m.\u001b[0m\u001b[0m_dns_host\u001b[0m\u001b[0;34m,\u001b[0m \u001b[0mself\u001b[0m\u001b[0;34m.\u001b[0m\u001b[0mport\u001b[0m\u001b[0;34m)\u001b[0m\u001b[0;34m,\u001b[0m \u001b[0mself\u001b[0m\u001b[0;34m.\u001b[0m\u001b[0mtimeout\u001b[0m\u001b[0;34m,\u001b[0m \u001b[0;34m**\u001b[0m\u001b[0mextra_kw\u001b[0m\u001b[0;34m\u001b[0m\u001b[0;34m\u001b[0m\u001b[0m\n\u001b[0m\u001b[1;32m    161\u001b[0m             )\n",
      "\u001b[0;32m~/.local/lib/python3.6/site-packages/urllib3/util/connection.py\u001b[0m in \u001b[0;36mcreate_connection\u001b[0;34m(address, timeout, source_address, socket_options)\u001b[0m\n\u001b[1;32m     83\u001b[0m     \u001b[0;32mif\u001b[0m \u001b[0merr\u001b[0m \u001b[0;32mis\u001b[0m \u001b[0;32mnot\u001b[0m \u001b[0;32mNone\u001b[0m\u001b[0;34m:\u001b[0m\u001b[0;34m\u001b[0m\u001b[0;34m\u001b[0m\u001b[0m\n\u001b[0;32m---> 84\u001b[0;31m         \u001b[0;32mraise\u001b[0m \u001b[0merr\u001b[0m\u001b[0;34m\u001b[0m\u001b[0;34m\u001b[0m\u001b[0m\n\u001b[0m\u001b[1;32m     85\u001b[0m \u001b[0;34m\u001b[0m\u001b[0m\n",
      "\u001b[0;32m~/.local/lib/python3.6/site-packages/urllib3/util/connection.py\u001b[0m in \u001b[0;36mcreate_connection\u001b[0;34m(address, timeout, source_address, socket_options)\u001b[0m\n\u001b[1;32m     73\u001b[0m                 \u001b[0msock\u001b[0m\u001b[0;34m.\u001b[0m\u001b[0mbind\u001b[0m\u001b[0;34m(\u001b[0m\u001b[0msource_address\u001b[0m\u001b[0;34m)\u001b[0m\u001b[0;34m\u001b[0m\u001b[0;34m\u001b[0m\u001b[0m\n\u001b[0;32m---> 74\u001b[0;31m             \u001b[0msock\u001b[0m\u001b[0;34m.\u001b[0m\u001b[0mconnect\u001b[0m\u001b[0;34m(\u001b[0m\u001b[0msa\u001b[0m\u001b[0;34m)\u001b[0m\u001b[0;34m\u001b[0m\u001b[0;34m\u001b[0m\u001b[0m\n\u001b[0m\u001b[1;32m     75\u001b[0m             \u001b[0;32mreturn\u001b[0m \u001b[0msock\u001b[0m\u001b[0;34m\u001b[0m\u001b[0;34m\u001b[0m\u001b[0m\n",
      "\u001b[0;31mConnectionRefusedError\u001b[0m: [Errno 111] Connection refused",
      "\nDuring handling of the above exception, another exception occurred:\n",
      "\u001b[0;31mNewConnectionError\u001b[0m                        Traceback (most recent call last)",
      "\u001b[0;32m~/.local/lib/python3.6/site-packages/urllib3/connectionpool.py\u001b[0m in \u001b[0;36murlopen\u001b[0;34m(self, method, url, body, headers, retries, redirect, assert_same_host, timeout, pool_timeout, release_conn, chunked, body_pos, **response_kw)\u001b[0m\n\u001b[1;32m    676\u001b[0m                 \u001b[0mheaders\u001b[0m\u001b[0;34m=\u001b[0m\u001b[0mheaders\u001b[0m\u001b[0;34m,\u001b[0m\u001b[0;34m\u001b[0m\u001b[0;34m\u001b[0m\u001b[0m\n\u001b[0;32m--> 677\u001b[0;31m                 \u001b[0mchunked\u001b[0m\u001b[0;34m=\u001b[0m\u001b[0mchunked\u001b[0m\u001b[0;34m,\u001b[0m\u001b[0;34m\u001b[0m\u001b[0;34m\u001b[0m\u001b[0m\n\u001b[0m\u001b[1;32m    678\u001b[0m             )\n",
      "\u001b[0;32m~/.local/lib/python3.6/site-packages/urllib3/connectionpool.py\u001b[0m in \u001b[0;36m_make_request\u001b[0;34m(self, conn, method, url, timeout, chunked, **httplib_request_kw)\u001b[0m\n\u001b[1;32m    391\u001b[0m         \u001b[0;32melse\u001b[0m\u001b[0;34m:\u001b[0m\u001b[0;34m\u001b[0m\u001b[0;34m\u001b[0m\u001b[0m\n\u001b[0;32m--> 392\u001b[0;31m             \u001b[0mconn\u001b[0m\u001b[0;34m.\u001b[0m\u001b[0mrequest\u001b[0m\u001b[0;34m(\u001b[0m\u001b[0mmethod\u001b[0m\u001b[0;34m,\u001b[0m \u001b[0murl\u001b[0m\u001b[0;34m,\u001b[0m \u001b[0;34m**\u001b[0m\u001b[0mhttplib_request_kw\u001b[0m\u001b[0;34m)\u001b[0m\u001b[0;34m\u001b[0m\u001b[0;34m\u001b[0m\u001b[0m\n\u001b[0m\u001b[1;32m    393\u001b[0m \u001b[0;34m\u001b[0m\u001b[0m\n",
      "\u001b[0;32m/usr/lib/python3.6/http/client.py\u001b[0m in \u001b[0;36mrequest\u001b[0;34m(self, method, url, body, headers, encode_chunked)\u001b[0m\n\u001b[1;32m   1280\u001b[0m         \u001b[0;34m\"\"\"Send a complete request to the server.\"\"\"\u001b[0m\u001b[0;34m\u001b[0m\u001b[0;34m\u001b[0m\u001b[0m\n\u001b[0;32m-> 1281\u001b[0;31m         \u001b[0mself\u001b[0m\u001b[0;34m.\u001b[0m\u001b[0m_send_request\u001b[0m\u001b[0;34m(\u001b[0m\u001b[0mmethod\u001b[0m\u001b[0;34m,\u001b[0m \u001b[0murl\u001b[0m\u001b[0;34m,\u001b[0m \u001b[0mbody\u001b[0m\u001b[0;34m,\u001b[0m \u001b[0mheaders\u001b[0m\u001b[0;34m,\u001b[0m \u001b[0mencode_chunked\u001b[0m\u001b[0;34m)\u001b[0m\u001b[0;34m\u001b[0m\u001b[0;34m\u001b[0m\u001b[0m\n\u001b[0m\u001b[1;32m   1282\u001b[0m \u001b[0;34m\u001b[0m\u001b[0m\n",
      "\u001b[0;32m/usr/lib/python3.6/http/client.py\u001b[0m in \u001b[0;36m_send_request\u001b[0;34m(self, method, url, body, headers, encode_chunked)\u001b[0m\n\u001b[1;32m   1326\u001b[0m             \u001b[0mbody\u001b[0m \u001b[0;34m=\u001b[0m \u001b[0m_encode\u001b[0m\u001b[0;34m(\u001b[0m\u001b[0mbody\u001b[0m\u001b[0;34m,\u001b[0m \u001b[0;34m'body'\u001b[0m\u001b[0;34m)\u001b[0m\u001b[0;34m\u001b[0m\u001b[0;34m\u001b[0m\u001b[0m\n\u001b[0;32m-> 1327\u001b[0;31m         \u001b[0mself\u001b[0m\u001b[0;34m.\u001b[0m\u001b[0mendheaders\u001b[0m\u001b[0;34m(\u001b[0m\u001b[0mbody\u001b[0m\u001b[0;34m,\u001b[0m \u001b[0mencode_chunked\u001b[0m\u001b[0;34m=\u001b[0m\u001b[0mencode_chunked\u001b[0m\u001b[0;34m)\u001b[0m\u001b[0;34m\u001b[0m\u001b[0;34m\u001b[0m\u001b[0m\n\u001b[0m\u001b[1;32m   1328\u001b[0m \u001b[0;34m\u001b[0m\u001b[0m\n",
      "\u001b[0;32m/usr/lib/python3.6/http/client.py\u001b[0m in \u001b[0;36mendheaders\u001b[0;34m(self, message_body, encode_chunked)\u001b[0m\n\u001b[1;32m   1275\u001b[0m             \u001b[0;32mraise\u001b[0m \u001b[0mCannotSendHeader\u001b[0m\u001b[0;34m(\u001b[0m\u001b[0;34m)\u001b[0m\u001b[0;34m\u001b[0m\u001b[0;34m\u001b[0m\u001b[0m\n\u001b[0;32m-> 1276\u001b[0;31m         \u001b[0mself\u001b[0m\u001b[0;34m.\u001b[0m\u001b[0m_send_output\u001b[0m\u001b[0;34m(\u001b[0m\u001b[0mmessage_body\u001b[0m\u001b[0;34m,\u001b[0m \u001b[0mencode_chunked\u001b[0m\u001b[0;34m=\u001b[0m\u001b[0mencode_chunked\u001b[0m\u001b[0;34m)\u001b[0m\u001b[0;34m\u001b[0m\u001b[0;34m\u001b[0m\u001b[0m\n\u001b[0m\u001b[1;32m   1277\u001b[0m \u001b[0;34m\u001b[0m\u001b[0m\n",
      "\u001b[0;32m/usr/lib/python3.6/http/client.py\u001b[0m in \u001b[0;36m_send_output\u001b[0;34m(self, message_body, encode_chunked)\u001b[0m\n\u001b[1;32m   1041\u001b[0m         \u001b[0;32mdel\u001b[0m \u001b[0mself\u001b[0m\u001b[0;34m.\u001b[0m\u001b[0m_buffer\u001b[0m\u001b[0;34m[\u001b[0m\u001b[0;34m:\u001b[0m\u001b[0;34m]\u001b[0m\u001b[0;34m\u001b[0m\u001b[0;34m\u001b[0m\u001b[0m\n\u001b[0;32m-> 1042\u001b[0;31m         \u001b[0mself\u001b[0m\u001b[0;34m.\u001b[0m\u001b[0msend\u001b[0m\u001b[0;34m(\u001b[0m\u001b[0mmsg\u001b[0m\u001b[0;34m)\u001b[0m\u001b[0;34m\u001b[0m\u001b[0;34m\u001b[0m\u001b[0m\n\u001b[0m\u001b[1;32m   1043\u001b[0m \u001b[0;34m\u001b[0m\u001b[0m\n",
      "\u001b[0;32m/usr/lib/python3.6/http/client.py\u001b[0m in \u001b[0;36msend\u001b[0;34m(self, data)\u001b[0m\n\u001b[1;32m    979\u001b[0m             \u001b[0;32mif\u001b[0m \u001b[0mself\u001b[0m\u001b[0;34m.\u001b[0m\u001b[0mauto_open\u001b[0m\u001b[0;34m:\u001b[0m\u001b[0;34m\u001b[0m\u001b[0;34m\u001b[0m\u001b[0m\n\u001b[0;32m--> 980\u001b[0;31m                 \u001b[0mself\u001b[0m\u001b[0;34m.\u001b[0m\u001b[0mconnect\u001b[0m\u001b[0;34m(\u001b[0m\u001b[0;34m)\u001b[0m\u001b[0;34m\u001b[0m\u001b[0;34m\u001b[0m\u001b[0m\n\u001b[0m\u001b[1;32m    981\u001b[0m             \u001b[0;32melse\u001b[0m\u001b[0;34m:\u001b[0m\u001b[0;34m\u001b[0m\u001b[0;34m\u001b[0m\u001b[0m\n",
      "\u001b[0;32m~/.local/lib/python3.6/site-packages/urllib3/connection.py\u001b[0m in \u001b[0;36mconnect\u001b[0;34m(self)\u001b[0m\n\u001b[1;32m    186\u001b[0m     \u001b[0;32mdef\u001b[0m \u001b[0mconnect\u001b[0m\u001b[0;34m(\u001b[0m\u001b[0mself\u001b[0m\u001b[0;34m)\u001b[0m\u001b[0;34m:\u001b[0m\u001b[0;34m\u001b[0m\u001b[0;34m\u001b[0m\u001b[0m\n\u001b[0;32m--> 187\u001b[0;31m         \u001b[0mconn\u001b[0m \u001b[0;34m=\u001b[0m \u001b[0mself\u001b[0m\u001b[0;34m.\u001b[0m\u001b[0m_new_conn\u001b[0m\u001b[0;34m(\u001b[0m\u001b[0;34m)\u001b[0m\u001b[0;34m\u001b[0m\u001b[0;34m\u001b[0m\u001b[0m\n\u001b[0m\u001b[1;32m    188\u001b[0m         \u001b[0mself\u001b[0m\u001b[0;34m.\u001b[0m\u001b[0m_prepare_conn\u001b[0m\u001b[0;34m(\u001b[0m\u001b[0mconn\u001b[0m\u001b[0;34m)\u001b[0m\u001b[0;34m\u001b[0m\u001b[0;34m\u001b[0m\u001b[0m\n",
      "\u001b[0;32m~/.local/lib/python3.6/site-packages/urllib3/connection.py\u001b[0m in \u001b[0;36m_new_conn\u001b[0;34m(self)\u001b[0m\n\u001b[1;32m    171\u001b[0m             raise NewConnectionError(\n\u001b[0;32m--> 172\u001b[0;31m                 \u001b[0mself\u001b[0m\u001b[0;34m,\u001b[0m \u001b[0;34m\"Failed to establish a new connection: %s\"\u001b[0m \u001b[0;34m%\u001b[0m \u001b[0me\u001b[0m\u001b[0;34m\u001b[0m\u001b[0;34m\u001b[0m\u001b[0m\n\u001b[0m\u001b[1;32m    173\u001b[0m             )\n",
      "\u001b[0;31mNewConnectionError\u001b[0m: <urllib3.connection.HTTPConnection object at 0x7f3fd2de6a90>: Failed to establish a new connection: [Errno 111] Connection refused",
      "\nDuring handling of the above exception, another exception occurred:\n",
      "\u001b[0;31mMaxRetryError\u001b[0m                             Traceback (most recent call last)",
      "\u001b[0;32m~/.local/lib/python3.6/site-packages/requests/adapters.py\u001b[0m in \u001b[0;36msend\u001b[0;34m(self, request, stream, timeout, verify, cert, proxies)\u001b[0m\n\u001b[1;32m    448\u001b[0m                     \u001b[0mretries\u001b[0m\u001b[0;34m=\u001b[0m\u001b[0mself\u001b[0m\u001b[0;34m.\u001b[0m\u001b[0mmax_retries\u001b[0m\u001b[0;34m,\u001b[0m\u001b[0;34m\u001b[0m\u001b[0;34m\u001b[0m\u001b[0m\n\u001b[0;32m--> 449\u001b[0;31m                     \u001b[0mtimeout\u001b[0m\u001b[0;34m=\u001b[0m\u001b[0mtimeout\u001b[0m\u001b[0;34m\u001b[0m\u001b[0;34m\u001b[0m\u001b[0m\n\u001b[0m\u001b[1;32m    450\u001b[0m                 )\n",
      "\u001b[0;32m~/.local/lib/python3.6/site-packages/urllib3/connectionpool.py\u001b[0m in \u001b[0;36murlopen\u001b[0;34m(self, method, url, body, headers, retries, redirect, assert_same_host, timeout, pool_timeout, release_conn, chunked, body_pos, **response_kw)\u001b[0m\n\u001b[1;32m    724\u001b[0m             retries = retries.increment(\n\u001b[0;32m--> 725\u001b[0;31m                 \u001b[0mmethod\u001b[0m\u001b[0;34m,\u001b[0m \u001b[0murl\u001b[0m\u001b[0;34m,\u001b[0m \u001b[0merror\u001b[0m\u001b[0;34m=\u001b[0m\u001b[0me\u001b[0m\u001b[0;34m,\u001b[0m \u001b[0m_pool\u001b[0m\u001b[0;34m=\u001b[0m\u001b[0mself\u001b[0m\u001b[0;34m,\u001b[0m \u001b[0m_stacktrace\u001b[0m\u001b[0;34m=\u001b[0m\u001b[0msys\u001b[0m\u001b[0;34m.\u001b[0m\u001b[0mexc_info\u001b[0m\u001b[0;34m(\u001b[0m\u001b[0;34m)\u001b[0m\u001b[0;34m[\u001b[0m\u001b[0;36m2\u001b[0m\u001b[0;34m]\u001b[0m\u001b[0;34m\u001b[0m\u001b[0;34m\u001b[0m\u001b[0m\n\u001b[0m\u001b[1;32m    726\u001b[0m             )\n",
      "\u001b[0;32m~/.local/lib/python3.6/site-packages/urllib3/util/retry.py\u001b[0m in \u001b[0;36mincrement\u001b[0;34m(self, method, url, response, error, _pool, _stacktrace)\u001b[0m\n\u001b[1;32m    438\u001b[0m         \u001b[0;32mif\u001b[0m \u001b[0mnew_retry\u001b[0m\u001b[0;34m.\u001b[0m\u001b[0mis_exhausted\u001b[0m\u001b[0;34m(\u001b[0m\u001b[0;34m)\u001b[0m\u001b[0;34m:\u001b[0m\u001b[0;34m\u001b[0m\u001b[0;34m\u001b[0m\u001b[0m\n\u001b[0;32m--> 439\u001b[0;31m             \u001b[0;32mraise\u001b[0m \u001b[0mMaxRetryError\u001b[0m\u001b[0;34m(\u001b[0m\u001b[0m_pool\u001b[0m\u001b[0;34m,\u001b[0m \u001b[0murl\u001b[0m\u001b[0;34m,\u001b[0m \u001b[0merror\u001b[0m \u001b[0;32mor\u001b[0m \u001b[0mResponseError\u001b[0m\u001b[0;34m(\u001b[0m\u001b[0mcause\u001b[0m\u001b[0;34m)\u001b[0m\u001b[0;34m)\u001b[0m\u001b[0;34m\u001b[0m\u001b[0;34m\u001b[0m\u001b[0m\n\u001b[0m\u001b[1;32m    440\u001b[0m \u001b[0;34m\u001b[0m\u001b[0m\n",
      "\u001b[0;31mMaxRetryError\u001b[0m: HTTPConnectionPool(host='localhost', port=8080): Max retries exceeded with url: /datalogging/currentState (Caused by NewConnectionError('<urllib3.connection.HTTPConnection object at 0x7f3fd2de6a90>: Failed to establish a new connection: [Errno 111] Connection refused',))",
      "\nDuring handling of the above exception, another exception occurred:\n",
      "\u001b[0;31mConnectionError\u001b[0m                           Traceback (most recent call last)",
      "\u001b[0;32m<ipython-input-6-58cc2879baf9>\u001b[0m in \u001b[0;36m<module>\u001b[0;34m\u001b[0m\n\u001b[1;32m      5\u001b[0m \u001b[0mtarget\u001b[0m\u001b[0;34m=\u001b[0m\u001b[0mtargets\u001b[0m\u001b[0;34m[\u001b[0m\u001b[0;36m1\u001b[0m\u001b[0;34m]\u001b[0m\u001b[0;34m\u001b[0m\u001b[0;34m\u001b[0m\u001b[0m\n\u001b[1;32m      6\u001b[0m \u001b[0;34m\u001b[0m\u001b[0m\n\u001b[0;32m----> 7\u001b[0;31m \u001b[0mmpi_track_source\u001b[0m\u001b[0;34m(\u001b[0m\u001b[0msim\u001b[0m\u001b[0;34m,\u001b[0m \u001b[0mtarget\u001b[0m\u001b[0;34m,\u001b[0m \u001b[0mstart\u001b[0m\u001b[0;34m=\u001b[0m\u001b[0mdatetime\u001b[0m\u001b[0;34m.\u001b[0m\u001b[0mdatetime\u001b[0m\u001b[0;34m.\u001b[0m\u001b[0mnow\u001b[0m\u001b[0;34m(\u001b[0m\u001b[0mdatetime\u001b[0m\u001b[0;34m.\u001b[0m\u001b[0mtimezone\u001b[0m\u001b[0;34m.\u001b[0m\u001b[0mutc\u001b[0m\u001b[0;34m)\u001b[0m\u001b[0;34m,\u001b[0m \u001b[0mtrack_len\u001b[0m\u001b[0;34m=\u001b[0m\u001b[0;36m5\u001b[0m\u001b[0;34m*\u001b[0m\u001b[0;36m60\u001b[0m\u001b[0;34m,\u001b[0m \u001b[0mdt\u001b[0m\u001b[0;34m=\u001b[0m\u001b[0;36m1\u001b[0m\u001b[0;34m)\u001b[0m\u001b[0;34m\u001b[0m\u001b[0;34m\u001b[0m\u001b[0m\n\u001b[0m",
      "\u001b[0;32m<ipython-input-5-aab5583b4d86>\u001b[0m in \u001b[0;36mmpi_track_source\u001b[0;34m(scu, target, start, track_len, dt)\u001b[0m\n\u001b[1;32m     14\u001b[0m     \u001b[0mscu\u001b[0m\u001b[0;34m.\u001b[0m\u001b[0mdebug\u001b[0m \u001b[0;34m=\u001b[0m \u001b[0;32mFalse\u001b[0m\u001b[0;34m\u001b[0m\u001b[0;34m\u001b[0m\u001b[0m\n\u001b[1;32m     15\u001b[0m \u001b[0;34m\u001b[0m\u001b[0m\n\u001b[0;32m---> 16\u001b[0;31m     \u001b[0;32mif\u001b[0m \u001b[0mscu\u001b[0m\u001b[0;34m.\u001b[0m\u001b[0mlogger_state\u001b[0m\u001b[0;34m(\u001b[0m\u001b[0;34m)\u001b[0m \u001b[0;34m==\u001b[0m \u001b[0;34m'RECORDING'\u001b[0m\u001b[0;34m:\u001b[0m\u001b[0;34m\u001b[0m\u001b[0;34m\u001b[0m\u001b[0m\n\u001b[0m\u001b[1;32m     17\u001b[0m         \u001b[0mprint\u001b[0m\u001b[0;34m(\u001b[0m\u001b[0;34m'WARNING, already recording - attempting to stop and start a fresh logger'\u001b[0m\u001b[0;34m)\u001b[0m\u001b[0;34m\u001b[0m\u001b[0;34m\u001b[0m\u001b[0m\n\u001b[1;32m     18\u001b[0m         \u001b[0mscu\u001b[0m\u001b[0;34m.\u001b[0m\u001b[0mstop_logger\u001b[0m\u001b[0;34m(\u001b[0m\u001b[0;34m)\u001b[0m\u001b[0;34m\u001b[0m\u001b[0;34m\u001b[0m\u001b[0m\n",
      "\u001b[0;32m~/checkouts/python/sculib.py\u001b[0m in \u001b[0;36mlogger_state\u001b[0;34m(self)\u001b[0m\n\u001b[1;32m    362\u001b[0m     \u001b[0;32mdef\u001b[0m \u001b[0mlogger_state\u001b[0m\u001b[0;34m(\u001b[0m\u001b[0mself\u001b[0m\u001b[0;34m)\u001b[0m\u001b[0;34m:\u001b[0m\u001b[0;34m\u001b[0m\u001b[0;34m\u001b[0m\u001b[0m\n\u001b[1;32m    363\u001b[0m         \u001b[0mprint\u001b[0m\u001b[0;34m(\u001b[0m\u001b[0;34m'logger state '\u001b[0m\u001b[0;34m)\u001b[0m\u001b[0;34m\u001b[0m\u001b[0;34m\u001b[0m\u001b[0m\n\u001b[0;32m--> 364\u001b[0;31m         \u001b[0mr\u001b[0m\u001b[0;34m=\u001b[0m\u001b[0mself\u001b[0m\u001b[0;34m.\u001b[0m\u001b[0mscu_get\u001b[0m\u001b[0;34m(\u001b[0m\u001b[0;34m'/datalogging/currentState'\u001b[0m\u001b[0;34m)\u001b[0m\u001b[0;34m\u001b[0m\u001b[0;34m\u001b[0m\u001b[0m\n\u001b[0m\u001b[1;32m    365\u001b[0m         \u001b[0;31m#print(r.json()['state'])\u001b[0m\u001b[0;34m\u001b[0m\u001b[0;34m\u001b[0m\u001b[0;34m\u001b[0m\u001b[0m\n\u001b[1;32m    366\u001b[0m         \u001b[0;32mreturn\u001b[0m\u001b[0;34m(\u001b[0m\u001b[0mr\u001b[0m\u001b[0;34m.\u001b[0m\u001b[0mjson\u001b[0m\u001b[0;34m(\u001b[0m\u001b[0;34m)\u001b[0m\u001b[0;34m[\u001b[0m\u001b[0;34m'state'\u001b[0m\u001b[0;34m]\u001b[0m\u001b[0;34m)\u001b[0m\u001b[0;34m\u001b[0m\u001b[0;34m\u001b[0m\u001b[0m\n",
      "\u001b[0;32m~/checkouts/python/sculib.py\u001b[0m in \u001b[0;36mscu_get\u001b[0;34m(self, device, params)\u001b[0m\n\u001b[1;32m    122\u001b[0m         with params=payload'''\n\u001b[1;32m    123\u001b[0m         \u001b[0mURL\u001b[0m \u001b[0;34m=\u001b[0m \u001b[0;34m'http://'\u001b[0m \u001b[0;34m+\u001b[0m \u001b[0mself\u001b[0m\u001b[0;34m.\u001b[0m\u001b[0mip\u001b[0m \u001b[0;34m+\u001b[0m \u001b[0;34m':'\u001b[0m \u001b[0;34m+\u001b[0m \u001b[0mself\u001b[0m\u001b[0;34m.\u001b[0m\u001b[0mport\u001b[0m \u001b[0;34m+\u001b[0m \u001b[0mdevice\u001b[0m\u001b[0;34m\u001b[0m\u001b[0;34m\u001b[0m\u001b[0m\n\u001b[0;32m--> 124\u001b[0;31m         \u001b[0mr\u001b[0m \u001b[0;34m=\u001b[0m \u001b[0mrequests\u001b[0m\u001b[0;34m.\u001b[0m\u001b[0mget\u001b[0m\u001b[0;34m(\u001b[0m\u001b[0murl\u001b[0m \u001b[0;34m=\u001b[0m \u001b[0mURL\u001b[0m\u001b[0;34m,\u001b[0m \u001b[0mparams\u001b[0m \u001b[0;34m=\u001b[0m \u001b[0mparams\u001b[0m\u001b[0;34m)\u001b[0m\u001b[0;34m\u001b[0m\u001b[0;34m\u001b[0m\u001b[0m\n\u001b[0m\u001b[1;32m    125\u001b[0m         \u001b[0mself\u001b[0m\u001b[0;34m.\u001b[0m\u001b[0mfeedback\u001b[0m\u001b[0;34m(\u001b[0m\u001b[0mr\u001b[0m\u001b[0;34m)\u001b[0m\u001b[0;34m\u001b[0m\u001b[0;34m\u001b[0m\u001b[0m\n\u001b[1;32m    126\u001b[0m         \u001b[0;32mreturn\u001b[0m\u001b[0;34m(\u001b[0m\u001b[0mr\u001b[0m\u001b[0;34m)\u001b[0m\u001b[0;34m\u001b[0m\u001b[0;34m\u001b[0m\u001b[0m\n",
      "\u001b[0;32m~/.local/lib/python3.6/site-packages/requests/api.py\u001b[0m in \u001b[0;36mget\u001b[0;34m(url, params, **kwargs)\u001b[0m\n\u001b[1;32m     74\u001b[0m \u001b[0;34m\u001b[0m\u001b[0m\n\u001b[1;32m     75\u001b[0m     \u001b[0mkwargs\u001b[0m\u001b[0;34m.\u001b[0m\u001b[0msetdefault\u001b[0m\u001b[0;34m(\u001b[0m\u001b[0;34m'allow_redirects'\u001b[0m\u001b[0;34m,\u001b[0m \u001b[0;32mTrue\u001b[0m\u001b[0;34m)\u001b[0m\u001b[0;34m\u001b[0m\u001b[0;34m\u001b[0m\u001b[0m\n\u001b[0;32m---> 76\u001b[0;31m     \u001b[0;32mreturn\u001b[0m \u001b[0mrequest\u001b[0m\u001b[0;34m(\u001b[0m\u001b[0;34m'get'\u001b[0m\u001b[0;34m,\u001b[0m \u001b[0murl\u001b[0m\u001b[0;34m,\u001b[0m \u001b[0mparams\u001b[0m\u001b[0;34m=\u001b[0m\u001b[0mparams\u001b[0m\u001b[0;34m,\u001b[0m \u001b[0;34m**\u001b[0m\u001b[0mkwargs\u001b[0m\u001b[0;34m)\u001b[0m\u001b[0;34m\u001b[0m\u001b[0;34m\u001b[0m\u001b[0m\n\u001b[0m\u001b[1;32m     77\u001b[0m \u001b[0;34m\u001b[0m\u001b[0m\n\u001b[1;32m     78\u001b[0m \u001b[0;34m\u001b[0m\u001b[0m\n",
      "\u001b[0;32m~/.local/lib/python3.6/site-packages/requests/api.py\u001b[0m in \u001b[0;36mrequest\u001b[0;34m(method, url, **kwargs)\u001b[0m\n\u001b[1;32m     59\u001b[0m     \u001b[0;31m# cases, and look like a memory leak in others.\u001b[0m\u001b[0;34m\u001b[0m\u001b[0;34m\u001b[0m\u001b[0;34m\u001b[0m\u001b[0m\n\u001b[1;32m     60\u001b[0m     \u001b[0;32mwith\u001b[0m \u001b[0msessions\u001b[0m\u001b[0;34m.\u001b[0m\u001b[0mSession\u001b[0m\u001b[0;34m(\u001b[0m\u001b[0;34m)\u001b[0m \u001b[0;32mas\u001b[0m \u001b[0msession\u001b[0m\u001b[0;34m:\u001b[0m\u001b[0;34m\u001b[0m\u001b[0;34m\u001b[0m\u001b[0m\n\u001b[0;32m---> 61\u001b[0;31m         \u001b[0;32mreturn\u001b[0m \u001b[0msession\u001b[0m\u001b[0;34m.\u001b[0m\u001b[0mrequest\u001b[0m\u001b[0;34m(\u001b[0m\u001b[0mmethod\u001b[0m\u001b[0;34m=\u001b[0m\u001b[0mmethod\u001b[0m\u001b[0;34m,\u001b[0m \u001b[0murl\u001b[0m\u001b[0;34m=\u001b[0m\u001b[0murl\u001b[0m\u001b[0;34m,\u001b[0m \u001b[0;34m**\u001b[0m\u001b[0mkwargs\u001b[0m\u001b[0;34m)\u001b[0m\u001b[0;34m\u001b[0m\u001b[0;34m\u001b[0m\u001b[0m\n\u001b[0m\u001b[1;32m     62\u001b[0m \u001b[0;34m\u001b[0m\u001b[0m\n\u001b[1;32m     63\u001b[0m \u001b[0;34m\u001b[0m\u001b[0m\n",
      "\u001b[0;32m~/.local/lib/python3.6/site-packages/requests/sessions.py\u001b[0m in \u001b[0;36mrequest\u001b[0;34m(self, method, url, params, data, headers, cookies, files, auth, timeout, allow_redirects, proxies, hooks, stream, verify, cert, json)\u001b[0m\n\u001b[1;32m    528\u001b[0m         }\n\u001b[1;32m    529\u001b[0m         \u001b[0msend_kwargs\u001b[0m\u001b[0;34m.\u001b[0m\u001b[0mupdate\u001b[0m\u001b[0;34m(\u001b[0m\u001b[0msettings\u001b[0m\u001b[0;34m)\u001b[0m\u001b[0;34m\u001b[0m\u001b[0;34m\u001b[0m\u001b[0m\n\u001b[0;32m--> 530\u001b[0;31m         \u001b[0mresp\u001b[0m \u001b[0;34m=\u001b[0m \u001b[0mself\u001b[0m\u001b[0;34m.\u001b[0m\u001b[0msend\u001b[0m\u001b[0;34m(\u001b[0m\u001b[0mprep\u001b[0m\u001b[0;34m,\u001b[0m \u001b[0;34m**\u001b[0m\u001b[0msend_kwargs\u001b[0m\u001b[0;34m)\u001b[0m\u001b[0;34m\u001b[0m\u001b[0;34m\u001b[0m\u001b[0m\n\u001b[0m\u001b[1;32m    531\u001b[0m \u001b[0;34m\u001b[0m\u001b[0m\n\u001b[1;32m    532\u001b[0m         \u001b[0;32mreturn\u001b[0m \u001b[0mresp\u001b[0m\u001b[0;34m\u001b[0m\u001b[0;34m\u001b[0m\u001b[0m\n",
      "\u001b[0;32m~/.local/lib/python3.6/site-packages/requests/sessions.py\u001b[0m in \u001b[0;36msend\u001b[0;34m(self, request, **kwargs)\u001b[0m\n\u001b[1;32m    641\u001b[0m \u001b[0;34m\u001b[0m\u001b[0m\n\u001b[1;32m    642\u001b[0m         \u001b[0;31m# Send the request\u001b[0m\u001b[0;34m\u001b[0m\u001b[0;34m\u001b[0m\u001b[0;34m\u001b[0m\u001b[0m\n\u001b[0;32m--> 643\u001b[0;31m         \u001b[0mr\u001b[0m \u001b[0;34m=\u001b[0m \u001b[0madapter\u001b[0m\u001b[0;34m.\u001b[0m\u001b[0msend\u001b[0m\u001b[0;34m(\u001b[0m\u001b[0mrequest\u001b[0m\u001b[0;34m,\u001b[0m \u001b[0;34m**\u001b[0m\u001b[0mkwargs\u001b[0m\u001b[0;34m)\u001b[0m\u001b[0;34m\u001b[0m\u001b[0;34m\u001b[0m\u001b[0m\n\u001b[0m\u001b[1;32m    644\u001b[0m \u001b[0;34m\u001b[0m\u001b[0m\n\u001b[1;32m    645\u001b[0m         \u001b[0;31m# Total elapsed time of the request (approximately)\u001b[0m\u001b[0;34m\u001b[0m\u001b[0;34m\u001b[0m\u001b[0;34m\u001b[0m\u001b[0m\n",
      "\u001b[0;32m~/.local/lib/python3.6/site-packages/requests/adapters.py\u001b[0m in \u001b[0;36msend\u001b[0;34m(self, request, stream, timeout, verify, cert, proxies)\u001b[0m\n\u001b[1;32m    514\u001b[0m                 \u001b[0;32mraise\u001b[0m \u001b[0mSSLError\u001b[0m\u001b[0;34m(\u001b[0m\u001b[0me\u001b[0m\u001b[0;34m,\u001b[0m \u001b[0mrequest\u001b[0m\u001b[0;34m=\u001b[0m\u001b[0mrequest\u001b[0m\u001b[0;34m)\u001b[0m\u001b[0;34m\u001b[0m\u001b[0;34m\u001b[0m\u001b[0m\n\u001b[1;32m    515\u001b[0m \u001b[0;34m\u001b[0m\u001b[0m\n\u001b[0;32m--> 516\u001b[0;31m             \u001b[0;32mraise\u001b[0m \u001b[0mConnectionError\u001b[0m\u001b[0;34m(\u001b[0m\u001b[0me\u001b[0m\u001b[0;34m,\u001b[0m \u001b[0mrequest\u001b[0m\u001b[0;34m=\u001b[0m\u001b[0mrequest\u001b[0m\u001b[0;34m)\u001b[0m\u001b[0;34m\u001b[0m\u001b[0;34m\u001b[0m\u001b[0m\n\u001b[0m\u001b[1;32m    517\u001b[0m \u001b[0;34m\u001b[0m\u001b[0m\n\u001b[1;32m    518\u001b[0m         \u001b[0;32mexcept\u001b[0m \u001b[0mClosedPoolError\u001b[0m \u001b[0;32mas\u001b[0m \u001b[0me\u001b[0m\u001b[0;34m:\u001b[0m\u001b[0;34m\u001b[0m\u001b[0;34m\u001b[0m\u001b[0m\n",
      "\u001b[0;31mConnectionError\u001b[0m: HTTPConnectionPool(host='localhost', port=8080): Max retries exceeded with url: /datalogging/currentState (Caused by NewConnectionError('<urllib3.connection.HTTPConnection object at 0x7f3fd2de6a90>: Failed to establish a new connection: [Errno 111] Connection refused',))"
     ]
    }
   ],
   "source": [
    "targets=['Tania Australis',\n",
    "         'theta1 Eri',\n",
    "         'Tiaki']\n",
    "\n",
    "target=targets[1]        \n",
    "\n",
    "mpi_track_source(sim, target, start=datetime.datetime.now(datetime.timezone.utc), track_len=5*60, dt=1)\n"
   ]
  },
  {
   "cell_type": "code",
   "execution_count": null,
   "metadata": {
    "scrolled": false
   },
   "outputs": [],
   "source": [
    "#Example function to add offsets to az and/or el, it displays current offsets - makes a change - wait 1s - displays new offsets\n",
    "mpi_track_offset(sim, 0, 0)"
   ]
  },
  {
   "cell_type": "code",
   "execution_count": null,
   "metadata": {
    "scrolled": true
   },
   "outputs": [],
   "source": [
    "Notebook needs to stop here, to allow track table to complete, before saving acu log to file \n",
    "by running the cell below manually when safe to do so.\n"
   ]
  },
  {
   "cell_type": "code",
   "execution_count": null,
   "metadata": {},
   "outputs": [],
   "source": [
    "mpi_save_tracklog(sim, target)"
   ]
  },
  {
   "cell_type": "code",
   "execution_count": null,
   "metadata": {},
   "outputs": [],
   "source": [
    "mpi_track_offset(sim, -140, -40)"
   ]
  },
  {
   "cell_type": "code",
   "execution_count": null,
   "metadata": {
    "scrolled": false
   },
   "outputs": [],
   "source": [
    "#Example function to add offsets to az and/or el, it displays current offsets - makes a change - wait 1s - displays new offsets\n",
    "mpi_track_offset(sim, 0, 0)\n",
    "\n",
    "All cells below just for debug\n"
   ]
  },
  {
   "cell_type": "code",
   "execution_count": 41,
   "metadata": {
    "scrolled": false
   },
   "outputs": [
    {
     "name": "stdout",
     "output_type": "stream",
     "text": [
      "<class 'float'>\n"
     ]
    }
   ],
   "source": [
    "from astropy.coordinates import solar_system_ephemeris\n",
    "\n",
    "from astropy.coordinates import get_body_barycentric, get_body, get_moon\n",
    "\n",
    "T0 = datetime.datetime.now(datetime.timezone.utc).timestamp()\n",
    "T = T0 + np.arange(0, 24*3600, 3600)\n",
    "print(type(T0))\n",
    "\n",
    "loc = EarthLocation.from_geodetic(lat=mpi_lat, lon=mpi_lon, height=mpi_alt*u.m, ellipsoid='WGS84')\n",
    "\n",
    "with solar_system_ephemeris.set('builtin'):\n",
    "    jup = get_body('jupiter', Time(T, format='unix', scale='utc'), loc) \n",
    "#jup  \n",
    "\n",
    "target='PKS1934-63'\n",
    "target='mars'\n",
    "target=jup\n",
    "#tt=mpi_gen_tt( target, start=datetime.datetime.now(datetime.timezone.utc), track_len=24*60*60, dt=60*60)\n"
   ]
  },
  {
   "cell_type": "code",
   "execution_count": 16,
   "metadata": {},
   "outputs": [
    {
     "name": "stdout",
     "output_type": "stream",
     "text": [
      "(array([59241.15326378, 59241.19493045, 59241.23659711, 59241.27826378,\n",
      "       59241.31993045, 59241.36159711, 59241.40326378, 59241.44493045,\n",
      "       59241.48659711, 59241.52826378, 59241.56993045, 59241.61159711,\n",
      "       59241.65326378, 59241.69493045, 59241.73659711, 59241.77826378,\n",
      "       59241.81993045, 59241.86159711, 59241.90326378, 59241.94493045,\n",
      "       59241.98659711, 59242.02826378, 59242.06993045, 59242.11159711]), array([150.3464382 , 149.00426505, 149.46479738, 152.22950769,\n",
      "       157.91296274, 166.89819954, 178.49741803, 190.43788644,\n",
      "       200.18993491, 206.67088285, 210.09354528, 211.06612324,\n",
      "       210.12822899, 207.66263998, 203.93338401, 199.14536676,\n",
      "       193.49777021, 187.22265685, 180.60078845, 173.94968684,\n",
      "       167.59024797, 161.81151178, 156.85391459, 152.92025838]), array([26.37890336, 32.9272513 , 39.56984817, 45.90784306, 51.40821563,\n",
      "       55.36958427, 57.04189708, 56.01643288, 52.55145648, 47.35751724,\n",
      "       41.16909338, 34.5601147 , 27.95680885, 21.69454407, 16.06088639,\n",
      "       11.31695699,  7.69830841,  5.39452447,  4.52298939,  5.13027799,\n",
      "        7.18335437, 10.57801717, 15.13630336, 20.62880318]))\n"
     ]
    }
   ],
   "source": [
    "print(tt)"
   ]
  },
  {
   "cell_type": "code",
   "execution_count": null,
   "metadata": {},
   "outputs": [],
   "source": [
    "#Brute force way to stop current program_track\n",
    "\n",
    "#any length 1 to 50 will do, 0 results in error \n",
    "sim.load_program_track('LOAD_RESET', 1)\n",
    "sim.wait_duration(3)"
   ]
  },
  {
   "cell_type": "code",
   "execution_count": null,
   "metadata": {
    "scrolled": true
   },
   "outputs": [],
   "source": [
    "'''\n",
    "States needed on SCU:\n",
    "1. Command authority\n",
    "2. DMC Activate \n",
    "A track table mode?\n",
    "'''\n",
    "\n",
    "#Get command authority\n",
    "sim.command_authority('Get')\n",
    "sim.wait_duration(5)\n",
    "\n",
    "#Activate drives to be in SIP mode?\n",
    "sim.activate_dmc();\n",
    "sim.wait_duration(15)\n",
    "\n",
    "'''\n",
    "Load program track can be called with three load types:\n",
    "LOAD_NEW\n",
    "LOAD_ADD\n",
    "LOAD_RESET\n",
    "'''\n",
    "#any length 1 to 50 will do, 0 results in error \n",
    "sim.load_program_track('LOAD_RESET', 1)\n",
    "sim.wait_duration(3)"
   ]
  },
  {
   "cell_type": "code",
   "execution_count": null,
   "metadata": {
    "scrolled": true
   },
   "outputs": [],
   "source": [
    "#sim.deactivate_dmc()\n",
    "#sim.reset_dmc()\n",
    "sim.activate_dmc()"
   ]
  }
 ],
 "metadata": {
  "kernelspec": {
   "display_name": "Python 3",
   "language": "python",
   "name": "python3"
  },
  "language_info": {
   "codemirror_mode": {
    "name": "ipython",
    "version": 3
   },
   "file_extension": ".py",
   "mimetype": "text/x-python",
   "name": "python",
   "nbconvert_exporter": "python",
   "pygments_lexer": "ipython3",
   "version": "3.6.9"
  }
 },
 "nbformat": 4,
 "nbformat_minor": 4
}
