{
 "cells": [
  {
   "cell_type": "code",
   "execution_count": null,
   "metadata": {},
   "outputs": [],
   "source": [
    "#Revised September 2019 - remove plotting\n",
    "import pandas as pd\n",
    "import numpy as np\n",
    "import matplotlib.pyplot as plt\n",
    "import sys\n",
    "#from mpl_toolkits.basemap import Basemap\n",
    "import datetime\n",
    "from scipy import signal\n",
    "\n",
    "import matplotlib.dates as mdates\n",
    "import glob, os\n",
    "import math\n",
    "from matplotlib.backends.backend_pdf import PdfPages\n",
    "import time"
   ]
  },
  {
   "cell_type": "code",
   "execution_count": null,
   "metadata": {},
   "outputs": [],
   "source": [
    "%matplotlib inline\n",
    "plt.ion()"
   ]
  },
  {
   "cell_type": "code",
   "execution_count": null,
   "metadata": {},
   "outputs": [],
   "source": [
    "#full list\n",
    "log_files=[\n",
    "['/home/pkotze/python/SKA-MPI Power measurements/power_test_A1_1/CSV/97intvl.csv','Initial A power check',[\n",
    "    ['A1.1',pd.Timestamp('09:12:40')],\n",
    "    ['Mains CB',pd.Timestamp('09:12:55')],\n",
    "    ['A1.2',pd.Timestamp('09:13:49')],\n",
    "    ['Controller',pd.Timestamp('09:13:55')],\n",
    "    ['A1.3',pd.Timestamp('09:15:35')],\n",
    "    ['A1.4 DC fan',pd.Timestamp('09:16:05')],\n",
    "    ['A1.4 PSC?',pd.Timestamp('09:16:43')],\n",
    "    ['A1.5',pd.Timestamp('09:17:28')],\n",
    "    ['V.M Consumption',pd.Timestamp('09:18:33')]]],\n",
    "['/home/pkotze/python/SKA-MPI Power measurements/power_test_A1_2/CSV/97intvl.csv','Repeat A power check',[\n",
    "    ['A1.1',pd.Timestamp('10:12:54')],\n",
    "    ['A1.2',pd.Timestamp('10:12:55')],\n",
    "    ['A1.3',pd.Timestamp('10:13:35')],\n",
    "    ['A1.4',pd.Timestamp('10:14:10')],\n",
    "    ['A1.5',pd.Timestamp('10:15:38')],\n",
    "    ['A1.6',pd.Timestamp('10:16:20')],\n",
    "    ['A1.7',pd.Timestamp('10:16:35')],\n",
    "    ['A1.8',pd.Timestamp('10:16:55')],\n",
    "    ['A1.9',pd.Timestamp('10:17:20')]]],\n",
    "['/home/pkotze/python/SKA-MPI Power measurements/power_test_C 20elev/CSV/97intvl.csv','C power check 20 elev'],\n",
    "['/home/pkotze/python/SKA-MPI Power measurements/power_test_C 85elev/CSV/97intvl.csv','C power check 85 elev'],\n",
    "['/home/pkotze/python/SKA-MPI Power measurements/power_test_D/CSV/97intvl.csv','D  power check']]"
   ]
  },
  {
   "cell_type": "code",
   "execution_count": null,
   "metadata": {},
   "outputs": [],
   "source": [
    "log_files[0][0]\n"
   ]
  },
  {
   "cell_type": "code",
   "execution_count": null,
   "metadata": {
    "scrolled": false
   },
   "outputs": [],
   "source": [
    "#Events \n",
    "#  recorded 20ms before detection + 200ms upon detection + 30ms after detection is 250ms\n",
    "# 2558 samples per file => 100us interval?!\n",
    "\n",
    "#Inrush current fl uctuations are captured in RMS at a fast 10ms sampling rate and displayed across a 30-second window\n",
    "\n",
    "#def event_plotter(log_file):\n",
    "#log_file=event_file[2]\n",
    "def event_plotter(log_file):\n",
    "    print(log_file)\n",
    "    df=pd.read_csv(log_file, nrows=1, names=['START_TIME'],parse_dates=['START_TIME'])\n",
    "    event_start=(df['START_TIME'][0])\n",
    "    date_rng = pd.date_range(start=event_start, periods=2558, freq='100us')\n",
    "\n",
    "    df=pd.read_csv(log_file, header=1, na_values=' ----- ')\n",
    "    #print(df)\n",
    "    #date_rng = pd.date_range(start=event_start, periods=2558, freq='100us')\n",
    "    #print(type(date_rng))\n",
    "\n",
    "    u1=np.asarray( df['U1'] ).astype(float)\n",
    "    u2=np.asarray( df['U2'] ).astype(float)\n",
    "    u3=np.asarray( df['U3'] ).astype(float)\n",
    "    i1=np.asarray( df['I1'] ).astype(float)\n",
    "    i2=np.asarray( df['I2'] ).astype(float)\n",
    "    i3=np.asarray( df['I3'] ).astype(float)\n",
    "    i4=np.asarray( df['I4'] ).astype(float)\n",
    "\n",
    "    fig,[ax1, ax2] = plt.subplots(nrows=2, ncols=1, figsize=(20,15))\n",
    "\n",
    "    ax1.set(title=log_file + \" => \" + str(event_start), ylabel='Phase voltage [V]') \n",
    "    xlabel='Timestep [units]'\n",
    "    ax1.plot(date_rng, u1)\n",
    "    ax1.plot(date_rng, u2)\n",
    "    ax1.plot(date_rng, u3)\n",
    "    ymin=-350\n",
    "    ymax=350 #253 max?\n",
    "    ystep=50\n",
    "    #ymin=int(min([min(u1),min(u2),min(u3)])*1.25)\n",
    "    #ymax=int(max([max(u1),max(u2),max(u3)])*1.25)\n",
    "    ax1.set_yticks(range(ymin,ymax,ystep))\n",
    "    ax1.set_ylim(ymin,ymax)\n",
    "    ax1.xaxis.set_major_locator(mdates.MicrosecondLocator(interval=20000))\n",
    "    ax1.xaxis.set_major_formatter(mdates.DateFormatter('%H %M %S.%f')) \n",
    "    ax1.tick_params(axis='x', labelrotation=35)\n",
    "    #_=plt.xticks(rotation=65)\n",
    "    ax1.legend(['U1 [V]','U2 [V]','U3 [V]'])\n",
    "    ax1.grid()\n",
    "\n",
    "    ax2.set(ylabel='Phase current [I]') \n",
    "    ax2.plot(date_rng, i1)\n",
    "    ax2.plot(date_rng, i2)\n",
    "    ax2.plot(date_rng, i3)\n",
    "    ax2.plot(date_rng, i4)\n",
    "    ymin=-50\n",
    "    ymax=50\n",
    "    ystep=1\n",
    "    ymin=math.floor(min([min(i1),min(i2),min(i3),min(i4)])*1.25)\n",
    "    ymax=math.ceil(max([max(i1),max(i2),max(i3),max(i4)])*1.25)\n",
    "    ystep=round((ymax-ymin)//10.0,1)\n",
    "    print(ystep)\n",
    "    #ax2.set_yticks(range(ymin,ymax,ystep))\n",
    "    ax2.set_ylim(ymin,ymax)\n",
    "    ax2.xaxis.set_major_locator(mdates.MicrosecondLocator(interval=20000))\n",
    "    ax2.xaxis.set_major_formatter(mdates.DateFormatter('%H %M %S.%f')) \n",
    "    ax2.tick_params(axis='x', labelrotation=35)\n",
    "    ax2.legend(['I1 [A]','I2 [A]','I3 [A]','I4 [A]'])\n",
    "    ax2.grid()\n",
    "    fig.savefig(log_file + '_event1.png')\n"
   ]
  },
  {
   "cell_type": "code",
   "execution_count": null,
   "metadata": {},
   "outputs": [],
   "source": [
    "last=log_files[0][0].rfind('/')\n",
    "log_files[0][0][0:last+1]"
   ]
  },
  {
   "cell_type": "code",
   "execution_count": null,
   "metadata": {
    "scrolled": false
   },
   "outputs": [],
   "source": [
    "#process all lines in log_files\n",
    "\n",
    "for line in log_files:\n",
    "    mydir=line[0][0:line[0].rfind('/')+1]\n",
    "    description=line[1]\n",
    "    print(description, mydir)\n",
    "    event_file=[file for file in glob.glob(mydir + \"97evt*.csv\")]\n",
    "    event_file.sort()\n",
    "    print(event_file)\n",
    "    with PdfPages(mydir + '_events_' + description + '_' + str(int(time.time())) +'.pdf') as pdf:\n",
    "        for file in event_file:\n",
    "            event_plotter(file)\n",
    "            pdf.savefig()  # saves the current figure into a pdf page\n",
    "            plt.close()"
   ]
  },
  {
   "cell_type": "code",
   "execution_count": null,
   "metadata": {
    "scrolled": false
   },
   "outputs": [],
   "source": [
    "#Test A1_2\n",
    "mydir='/home/pkotze/python/SKA-MPI Power measurements/power_test_A1_1/CSV/'\n",
    "\n",
    "event_file=[file for file in glob.glob(mydir + \"97evt*.csv\")]\n",
    "event_file.sort()\n",
    "\n",
    "#event_file.remove('97evt008.csv')\n",
    "\n",
    "print(event_file)\n",
    "with PdfPages(file+'_events_' + str(int(time.time())) +'.pdf') as pdf:\n",
    "    for file in event_file:\n",
    "        event_plotter(file)\n",
    "        pdf.savefig()  # saves the current figure into a pdf page"
   ]
  },
  {
   "cell_type": "code",
   "execution_count": null,
   "metadata": {
    "scrolled": true
   },
   "outputs": [],
   "source": [
    "#A1_2\n",
    "mydir='/home/pkotze/python/SKA-MPI Power measurements/power_test_A1_2/CSV/'\n",
    "\n",
    "event_file=[file for file in glob.glob(mydir + \"97evt*.csv\")]\n",
    "event_file.sort()\n",
    "\n",
    "#event_file.remove('97evt008.csv')\n",
    "\n",
    "print(event_file)\n",
    "for file in event_file:\n",
    "    event_plotter(file)"
   ]
  },
  {
   "cell_type": "code",
   "execution_count": null,
   "metadata": {
    "scrolled": true
   },
   "outputs": [],
   "source": [
    "#B or C\n",
    "mydir='/home/pkotze/python/SKA-MPI Power measurements/power_test_C 20elev/CSV/'\n",
    "\n",
    "event_file=[file for file in glob.glob(mydir + \"97evt*.csv\")]\n",
    "event_file.sort()\n",
    "\n",
    "#event_file.remove('97evt008.csv')\n",
    "\n",
    "print(event_file)\n",
    "for file in event_file:\n",
    "    event_plotter(file)"
   ]
  },
  {
   "cell_type": "code",
   "execution_count": null,
   "metadata": {
    "scrolled": true
   },
   "outputs": [],
   "source": [
    "#B or C\n",
    "mydir='/home/pkotze/python/SKA-MPI Power measurements/power_test_C 85elev/CSV/'\n",
    "\n",
    "event_file=[file for file in glob.glob(mydir + \"97evt*.csv\")]\n",
    "event_file.sort()\n",
    "\n",
    "#event_file.remove('97evt008.csv')\n",
    "\n",
    "print(event_file)\n",
    "for file in event_file:\n",
    "    event_plotter(file)"
   ]
  },
  {
   "cell_type": "code",
   "execution_count": null,
   "metadata": {
    "scrolled": true
   },
   "outputs": [],
   "source": [
    "#D\n",
    "mydir='/home/pkotze/python/SKA-MPI Power measurements/power_test_D/CSV/'\n",
    "\n",
    "event_file=[file for file in glob.glob(mydir + \"97evt*.csv\")]\n",
    "event_file.sort()\n",
    "\n",
    "#event_file.remove('97evt008.csv')\n",
    "\n",
    "print(event_file)\n",
    "for file in event_file:\n",
    "    event_plotter(file)"
   ]
  },
  {
   "cell_type": "code",
   "execution_count": null,
   "metadata": {},
   "outputs": [],
   "source": []
  },
  {
   "cell_type": "code",
   "execution_count": null,
   "metadata": {},
   "outputs": [],
   "source": [
    "# DEVELOPMENT CELL\n",
    "df=pd.read_csv(log_file, nrows=1, names=['START_TIME'],parse_dates=['START_TIME'])\n",
    "event_start=(df['START_TIME'][0])\n",
    "print(type(event_start))"
   ]
  },
  {
   "cell_type": "code",
   "execution_count": null,
   "metadata": {},
   "outputs": [],
   "source": [
    "# DEVELOPMENT CELL\n",
    "date_rng = pd.date_range(start=event_start, periods=2558, freq='100us')\n",
    "'''print(type(date_rng))\n",
    "#date_rng.to_datetime()\n",
    "print(date_rng.shape)\n",
    "print(date_rng)\n",
    "plt.plot(date_rng)\n",
    "'''"
   ]
  },
  {
   "cell_type": "code",
   "execution_count": null,
   "metadata": {
    "scrolled": false
   },
   "outputs": [],
   "source": [
    "# DEVELOPMENT CELL\n",
    "\n",
    "log_file=event_file[9]\n",
    "#def event_plotter(log_file):\n",
    "print(log_file)\n",
    "df=pd.read_csv(log_file, nrows=1, names=['START_TIME'],parse_dates=['START_TIME'])\n",
    "event_start=(df['START_TIME'][0])\n",
    "date_rng = pd.date_range(start=event_start, periods=2558, freq='100us')\n",
    "\n",
    "df=pd.read_csv(log_file, header=1, na_values=' ----- ')\n",
    "#print(df)\n",
    "#date_rng = pd.date_range(start=event_start, periods=2558, freq='100us')\n",
    "#print(type(date_rng))\n",
    "\n",
    "u1=np.asarray( df['U1'] ).astype(float)\n",
    "u2=np.asarray( df['U2'] ).astype(float)\n",
    "u3=np.asarray( df['U3'] ).astype(float)\n",
    "i1=np.asarray( df['I1'] ).astype(float)\n",
    "i2=np.asarray( df['I2'] ).astype(float)\n",
    "i3=np.asarray( df['I3'] ).astype(float)\n",
    "i4=np.asarray( df['I4'] ).astype(float)\n",
    "\n",
    "fig,[ax1, ax2] = plt.subplots(nrows=2, ncols=1, figsize=(20,15))\n",
    "\n",
    "ax1.set(title=log_file + \" => \" + str(event_start), ylabel='Phase voltage [V]') \n",
    "xlabel='Timestep [units]'\n",
    "ax1.plot(date_rng, u1)\n",
    "ax1.plot(date_rng, u2)\n",
    "ax1.plot(date_rng, u3)\n",
    "ymin=-350\n",
    "ymax=350 #253 max?\n",
    "ystep=50\n",
    "ax1.set_yticks(range(ymin,ymax,ystep))\n",
    "ax1.set_ylim(ymin,ymax)\n",
    "ax1.xaxis.set_major_locator(mdates.MicrosecondLocator(interval=20000))\n",
    "ax1.xaxis.set_major_formatter(mdates.DateFormatter('%S.%f')) \n",
    "ax1.tick_params(axis='x', labelrotation=35)\n",
    "#_=plt.xticks(rotation=65)\n",
    "ax1.legend(['U1 [V]','U2 [V]','U3 [V]'])\n",
    "ax1.grid()\n",
    "\n",
    "ax2.set(title=log_file + \" => \" + str(event_start), ylabel='Phase current [I]') \n",
    "ax2.plot(date_rng, i1)\n",
    "ax2.plot(date_rng, i2)\n",
    "ax2.plot(date_rng, i3)\n",
    "ax2.plot(date_rng, i4)\n",
    "ymin=-50\n",
    "ymax=50\n",
    "ystep=5\n",
    "ax2.set_yticks(range(ymin,ymax,ystep))\n",
    "ax2.set_ylim(ymin,ymax)\n",
    "ax2.xaxis.set_major_locator(mdates.MicrosecondLocator(interval=20000))\n",
    "ax2.xaxis.set_major_formatter(mdates.DateFormatter('%S.%f')) \n",
    "ax1.tick_params(axis='x', labelrotation=35)\n",
    "ax2.legend(['I1 [A]','I2 [A]','I3 [A]','I4 [A]'])\n",
    "ax2.grid()"
   ]
  },
  {
   "cell_type": "markdown",
   "metadata": {},
   "source": [
    "Check timestamps step size to see if data average/interval was changed."
   ]
  }
 ],
 "metadata": {
  "kernelspec": {
   "display_name": "Python 3",
   "language": "python",
   "name": "python3"
  },
  "language_info": {
   "codemirror_mode": {
    "name": "ipython",
    "version": 3
   },
   "file_extension": ".py",
   "mimetype": "text/x-python",
   "name": "python",
   "nbconvert_exporter": "python",
   "pygments_lexer": "ipython3",
   "version": "3.6.9"
  }
 },
 "nbformat": 4,
 "nbformat_minor": 2
}
