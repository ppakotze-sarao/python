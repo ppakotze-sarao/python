{
 "cells": [
  {
   "cell_type": "code",
   "execution_count": 1,
   "metadata": {},
   "outputs": [],
   "source": [
    "#13 June 2022 \n",
    "#change of sensor compressor_temperature1 to compressor_differential_pressure\n",
    "#setpoint rsc_rxs_tempvac_temp15k from 20 to 21k"
   ]
  },
  {
   "cell_type": "code",
   "execution_count": 2,
   "metadata": {},
   "outputs": [
    {
     "name": "stderr",
     "output_type": "stream",
     "text": [
      "/usr/local/lib/python2.7/dist-packages/katpoint/__init__.py:81: FutureWarning: Python 2 has reached End-of-Life, and a future version of katpoint will remove support for it. Please update your scripts to Python 3 as soon as possible.\n",
      "  _warnings.warn(_PY2_WARNING, FutureWarning)\n"
     ]
    },
    {
     "name": "stdout",
     "output_type": "stream",
     "text": [
      "Populating the interactive namespace from numpy and matplotlib\n"
     ]
    },
    {
     "data": {
      "application/javascript": [
       "IPython.notebook.set_autosave_interval(60000)"
      ]
     },
     "metadata": {},
     "output_type": "display_data"
    },
    {
     "name": "stdout",
     "output_type": "stream",
     "text": [
      "Autosaving every 60 seconds\n"
     ]
    }
   ],
   "source": [
    "\n",
    "import requests # Could use the builtin urllib but Requests are nicer.\n",
    "from requests.exceptions import ConnectionError\n",
    "import katpoint\n",
    "import time\n",
    "import pandas as pd\n",
    "import csv\n",
    "import re\n",
    "import grequests \n",
    "import urlparse\n",
    "\n",
    "%pylab inline\n",
    "%autosave 60"
   ]
  },
  {
   "cell_type": "code",
   "execution_count": 3,
   "metadata": {},
   "outputs": [],
   "source": [
    "# utility function for retrieving sensor tuple form\n",
    "def get_tuple(sensor_name, sensors):\n",
    "    for sensor in sensors:\n",
    "        if sensor[0] == sensor_name:\n",
    "            return sensor"
   ]
  },
  {
   "cell_type": "code",
   "execution_count": 4,
   "metadata": {},
   "outputs": [],
   "source": [
    "url=\"http://portal.mkat.karoo.kat.ac.za/katstore/api/query\" # site for the most resent values\n",
    "#url='http://kat-flap-cpt.mkat.control.kat.ac.za/katstore/samples' # flap in CT for older values"
   ]
  },
  {
   "cell_type": "code",
   "execution_count": 5,
   "metadata": {},
   "outputs": [],
   "source": [
    "sensors = [\n",
    "#    'rsc_rxl_state',\n",
    "    ['anc_weather_temperature', 50,'gt'],\n",
    "    ['rsc_rsc_he_compressor_supply_pressure', 18,'lt'],\n",
    "    ['rsc_rsc_he_compressor_differential_pressure', 13,'gt'],\n",
    "    ['rsc_rxl_rfe1_temperature', 26,'gt'],\n",
    "    ['rsc_rxl_cryo_stepper_motor_rpm', 80,'gt'],\n",
    "    ['rsc_rxl_rfe_heater1_current', 10,'lt'],\n",
    "    ['rsc_rxu_rfe1_temperature', 26,'gt'],\n",
    "    ['rsc_rxu_cryo_stepper_motor_rpm', 80,'gt'],\n",
    "    ['rsc_rxu_rfe_heater1_current', 10,'lt'],\n",
    "    ['rsc_rxs_tempvac_temp15k', 21,'gt'],\n",
    "    ['rsc_rxs_cryocooler_motorspeedmeasure', 75,'gt'],\n",
    "    ['rsc_rxs_tempvac_temp70k', 65,'gt']\n",
    "    ]"
   ]
  },
  {
   "cell_type": "code",
   "execution_count": 6,
   "metadata": {},
   "outputs": [],
   "source": [
    "aps = []\n",
    "for i in range(64):\n",
    "    aps.append('m'+str(i).zfill(3))"
   ]
  },
  {
   "cell_type": "code",
   "execution_count": null,
   "metadata": {},
   "outputs": [
    {
     "name": "stdout",
     "output_type": "stream",
     "text": [
      "m000 processed in 77.24 seconds with 1721068 records at 2022-06-13 09:15:06\n",
      "m001 processed in 79.22 seconds with 1779782 records at 2022-06-13 09:16:26\n",
      "m002 processed in 79.32 seconds with 1795479 records at 2022-06-13 09:17:45\n",
      "m003 processed in 82.08 seconds with 1870493 records at 2022-06-13 09:19:07\n",
      "m004 processed in 80.48 seconds with 1801024 records at 2022-06-13 09:20:27\n",
      "m005 processed in 82.92 seconds with 1892015 records at 2022-06-13 09:21:50\n",
      "m006 processed in 78.19 seconds with 1772519 records at 2022-06-13 09:23:09\n",
      "m007 processed in 81.42 seconds with 1852203 records at 2022-06-13 09:24:30\n",
      "m008 processed in 82.45 seconds with 1904782 records at 2022-06-13 09:25:52\n",
      "m009 processed in 79.10 seconds with 1808323 records at 2022-06-13 09:27:11\n",
      "m010 processed in 83.92 seconds with 1911096 records at 2022-06-13 09:28:35\n",
      "m011 processed in 66.01 seconds with 1444987 records at 2022-06-13 09:29:41\n",
      "m012 processed in 83.18 seconds with 1899885 records at 2022-06-13 09:31:05\n",
      "m013 processed in 91.09 seconds with 1924798 records at 2022-06-13 09:32:36\n",
      "m014 processed in 92.09 seconds with 1882097 records at 2022-06-13 09:34:08\n",
      "m015 processed in 90.75 seconds with 1855875 records at 2022-06-13 09:35:39\n",
      "m016 processed in 93.84 seconds with 1880906 records at 2022-06-13 09:37:12\n",
      "m017 processed in 89.73 seconds with 1828259 records at 2022-06-13 09:38:42\n",
      "m018 processed in 87.42 seconds with 1754514 records at 2022-06-13 09:40:10\n",
      "m019 processed in 86.25 seconds with 1782263 records at 2022-06-13 09:41:36\n",
      "m020 processed in 84.30 seconds with 1900137 records at 2022-06-13 09:43:00\n",
      "m021 processed in 83.87 seconds with 1929918 records at 2022-06-13 09:44:24\n",
      "m022 processed in 84.39 seconds with 1922511 records at 2022-06-13 09:45:48\n",
      "m023 processed in 78.47 seconds with 1783351 records at 2022-06-13 09:47:07\n",
      "m024 processed in 80.86 seconds with 1876156 records at 2022-06-13 09:48:28\n",
      "m025 processed in 64.62 seconds with 1360434 records at 2022-06-13 09:49:32\n",
      "m026 processed in 86.11 seconds with 1994926 records at 2022-06-13 09:50:58\n",
      "m027 processed in 81.58 seconds with 1888057 records at 2022-06-13 09:52:20\n"
     ]
    }
   ],
   "source": [
    "now = time.strftime(\"%Y-%m-%d %H:%M:%S\", time.gmtime(time.time()))\n",
    "def_start = katpoint.Timestamp(time.time()-30*24*3600)\n",
    "def_end = katpoint.Timestamp(now)\n",
    "\n",
    "\n",
    "all_data = {}        \n",
    "for ap in aps:\n",
    "    all_data[ap] = {}\n",
    "    st =  time.time()\n",
    "    len_rec = 0\n",
    "    for i,sensor in enumerate(sensors): \n",
    "        sen = '%s_%s'%(ap,sensor[0]) if sensor[0].startswith('rsc') else '%s'%(sensor[0])  \n",
    "        \n",
    "        params={'sensor': sen,  # name of the sensor.\n",
    "           'start_time':def_start.secs, # start time in seconds - float should work.\n",
    "           'end_time': def_end.secs, # end time in seconds\n",
    "           'limit':1000000,\n",
    "           'include_value_time': True}\n",
    "        for t in range(10):\n",
    "            try:\n",
    "                res = requests.get(url, params,timeout=200) # Make the call.\n",
    "            except Exception as e:\n",
    "                print e\n",
    "                print \"Retrying\"\n",
    "                continue\n",
    "            break\n",
    "        res.close()\n",
    "        if  res.status_code != 200: \n",
    "            continue\n",
    "        len_rec += len(res.json()['data'])\n",
    "        data_list = [(r['value_time'], r['value']) for r in res.json()['data']]\n",
    "        data = array(data_list)\n",
    "        if len(data) !=0:\n",
    "            err = any(data[:,1] >= sensor[1]) if sensor[2] == 'gt' else any(data[:,1] <= sensor[1])\n",
    "            all_data[ap][sensor[0]] = {'ts':data[:,0],'data':data[:,1],'err':err}\n",
    "    ed =  time.time()\n",
    "    print \"%s processed in %.2f seconds with %d records at %s\"%(ap,ed-st,len_rec,time.strftime(\"%Y-%m-%d %H:%M:%S\", time.gmtime(time.time())))"
   ]
  },
  {
   "cell_type": "code",
   "execution_count": null,
   "metadata": {},
   "outputs": [],
   "source": [
    "# Choose your xtick format string\n",
    "date_fmt = '%d-%m-%y\\n%H:%M:%S'\n",
    "\n",
    "# Use a DateFormatter to set the data to the correct format.\n",
    "date_formatter = DateFormatter(date_fmt)\n",
    "        \n",
    "for ap in aps:\n",
    "    err_state = []\n",
    "    for k in all_data[ap].iteritems():\n",
    "        err_state.append(k[1]['err'])\n",
    "    if True:\n",
    "        figure(figsize=(20,10))\n",
    "        for i,sensor in enumerate(sensors): \n",
    "            sen = '%s_%s'%(ap,sensor[0]) if sensor[0].startswith('rsc') else '%s'%(sensor[0])\n",
    "            subplot(4,3,i+1)\n",
    "            try:\n",
    "                ts = all_data[ap][sensor[0]]['ts']\n",
    "                data = all_data[ap][sensor[0]]['data']\n",
    "            except:\n",
    "                continue\n",
    "            plot_date(matplotlib.dates.epoch2num(ts),data)\n",
    "            title('%s'%(sen))\n",
    "            ax = gca()\n",
    "            axhline(sensor[1],color='r',linewidth=3)\n",
    "            ax.xaxis.set_major_formatter(date_formatter)#ax.figure.autofmt_xdate()\n",
    "            ax.figure.autofmt_xdate()\n",
    "            grid()\n",
    "    print ap      "
   ]
  },
  {
   "cell_type": "code",
   "execution_count": null,
   "metadata": {},
   "outputs": [],
   "source": [
    "\n",
    "now = time.strftime(\"%Y-%m-%d %H:%M:%S\", time.gmtime(time.time()))\n",
    "start = katpoint.Timestamp(time.time()-30*24*3600)\n",
    "end = katpoint.Timestamp(now)\n",
    "\n",
    "\n",
    "all_data = {}        \n",
    "for ap in aps:\n",
    "    all_data[ap] = {}\n",
    "    st =  time.time()\n",
    "    len_rec = 0\n",
    "    len_rec = get_ap_sensors(ap,len_rec, all_data)\n",
    "    ed =  time.time()\n",
    "    print \"%s processed in %.2f seconds with %d records at %s\"%(ap,ed-st,len_rec,time.strftime(\"%Y-%m-%d %H:%M:%S\", time.gmtime(time.time())))\n",
    "\n"
   ]
  }
 ],
 "metadata": {
  "kernelspec": {
   "display_name": "Python 2",
   "language": "python",
   "name": "python2"
  },
  "language_info": {
   "codemirror_mode": {
    "name": "ipython",
    "version": 2
   },
   "file_extension": ".py",
   "mimetype": "text/x-python",
   "name": "python",
   "nbconvert_exporter": "python",
   "pygments_lexer": "ipython2",
   "version": "2.7.12"
  }
 },
 "nbformat": 4,
 "nbformat_minor": 1
}
