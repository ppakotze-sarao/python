{
 "cells": [
  {
   "cell_type": "code",
   "execution_count": null,
   "metadata": {},
   "outputs": [],
   "source": [
    "#Revised September 2019 - remove plotting\n",
    "import pandas as pd\n",
    "import numpy as np\n",
    "import matplotlib.pyplot as plt\n",
    "import sys\n",
    "#from mpl_toolkits.basemap import Basemap\n",
    "import datetime\n",
    "from scipy import signal\n",
    "\n",
    "import matplotlib.dates as mdates\n",
    "import glob, os\n",
    "\n",
    "from matplotlib.backends.backend_pdf import PdfPages\n",
    "import time"
   ]
  },
  {
   "cell_type": "code",
   "execution_count": null,
   "metadata": {},
   "outputs": [],
   "source": [
    "%matplotlib inline\n",
    "plt.ion()"
   ]
  },
  {
   "cell_type": "code",
   "execution_count": null,
   "metadata": {},
   "outputs": [],
   "source": [
    "#full list\n",
    "log_files=[\n",
    "['/home/pkotze/python/SKA-MPI Power measurements/power_test_A1_1/CSV/97intvl.csv','Initial A power check',[\n",
    "    ['A1.1',pd.Timestamp('09:12:40')],\n",
    "    ['Mains CB',pd.Timestamp('09:12:55')],\n",
    "    ['A1.2',pd.Timestamp('09:13:49')],\n",
    "    ['Controller',pd.Timestamp('09:13:55')],\n",
    "    ['A1.3',pd.Timestamp('09:15:35')],\n",
    "    ['A1.4 DC fan',pd.Timestamp('09:16:05')],\n",
    "    ['A1.4 PSC?',pd.Timestamp('09:16:43')],\n",
    "    ['A1.5',pd.Timestamp('09:17:28')],\n",
    "    ['V.M Consumption',pd.Timestamp('09:18:33')]]],\n",
    "['/home/pkotze/python/SKA-MPI Power measurements/power_test_A1_2/CSV/97intvl.csv','Repeat A power check',[\n",
    "    ['A1.1',pd.Timestamp('10:12:54')],\n",
    "    ['A1.2',pd.Timestamp('10:12:55')],\n",
    "    ['A1.3',pd.Timestamp('10:13:35')],\n",
    "    ['A1.4',pd.Timestamp('10:14:10')],\n",
    "    ['A1.5',pd.Timestamp('10:15:38')],\n",
    "    ['A1.6',pd.Timestamp('10:16:20')],\n",
    "    ['A1.7',pd.Timestamp('10:16:35')],\n",
    "    ['A1.8',pd.Timestamp('10:16:55')],\n",
    "    ['A1.9',pd.Timestamp('10:17:20')]]],\n",
    "['/home/pkotze/python/SKA-MPI Power measurements/power_test_C 20elev/CSV/97intvl.csv','C power check 20 elev'],\n",
    "['/home/pkotze/python/SKA-MPI Power measurements/power_test_C 85elev/CSV/97intvl.csv','C power check 85 elev'],\n",
    "['/home/pkotze/python/SKA-MPI Power measurements/power_test_D/CSV/97intvl.csv','D  power check']]"
   ]
  },
  {
   "cell_type": "code",
   "execution_count": null,
   "metadata": {
    "scrolled": false
   },
   "outputs": [],
   "source": [
    "#Inrush  \n",
    "#  recorded 30s window 10ms sampling rate?\n",
    "\n",
    "#Inrush current fluctuations are captured in RMS at a fast 10ms sampling rate and displayed across a 30-second window\n",
    "\n",
    "#def event_plotter(log_file):\n",
    "#log_file=event_file[2]\n",
    "def inrush_plotter(log_file):\n",
    "    print(log_file)\n",
    "    df=pd.read_csv(log_file, header=0, na_values=' ----- ')\n",
    "    #print(df)\n",
    "    date_rng = pd.date_range(start=0, periods=3000, freq='10ms')\n",
    "    #print(type(date_rng))\n",
    "    i1=np.asarray( df['I1'] ).astype(float)\n",
    "    i2=np.asarray( df['I2'] ).astype(float)\n",
    "    i3=np.asarray( df['I3'] ).astype(float)\n",
    "    \n",
    "    print(len(i1))\n",
    "    \n",
    "\n",
    "    fig,ax1 = plt.subplots(nrows=1, ncols=1, figsize=(20,15))\n",
    "\n",
    "    ax1.set(title=log_file + \" => Inrush\" , ylabel='Phase voltage [V]') \n",
    "    xlabel='Timestep [units]'\n",
    "    ax1.set(title=log_file + \" => \" , ylabel='Phase current [I]') \n",
    "    ax1.plot(date_rng, i1)\n",
    "    ax1.plot(date_rng, i2)\n",
    "    ax1.plot(date_rng, i3)\n",
    "    ymin=int(min([min(i1),min(i2),min(i3)])*1.25)\n",
    "    ymax=int(max([max(i1),max(i2),max(i3)])*1.25)\n",
    "    ystep=2\n",
    "    ax1.set_yticks(range(ymin,ymax,ystep))\n",
    "    ax1.set_ylim(ymin,ymax)\n",
    "    #xmin=0\n",
    "    #xmax=20\n",
    "    #ax1.set_xlim(xmin,xmax)\n",
    "    ax1.xaxis.set_major_locator(mdates.SecondLocator(interval=2))\n",
    "    ax1.xaxis.set_major_formatter(mdates.DateFormatter('%S.%f')) \n",
    "    ax1.tick_params(axis='x', labelrotation=35)\n",
    "    ax1.legend(['I1 [A]','I2 [A]','I3 [A]'])\n",
    "\n",
    "    ax1.grid()\n",
    "    fig.savefig(log_file + '_inrush1.png')"
   ]
  },
  {
   "cell_type": "code",
   "execution_count": null,
   "metadata": {},
   "outputs": [],
   "source": [
    "#Test A1_2\n",
    "\n",
    "for line in log_files:\n",
    "    mydir=line[0][0:line[0].rfind('/')+1]\n",
    "    description=line[1]\n",
    "    print(description, mydir)\n",
    "    event_file=[file for file in glob.glob(mydir + \"97inrush.csv\")]\n",
    "    event_file.sort()\n",
    "    print(event_file)\n",
    "    with PdfPages(mydir + '_inrush_' + description + '_' + str(int(time.time())) +'.pdf') as pdf:\n",
    "        for file in event_file:\n",
    "            inrush_plotter(file)\n",
    "            pdf.savefig()  # saves the current figure into a pdf page\n",
    "            plt.close()"
   ]
  },
  {
   "cell_type": "code",
   "execution_count": null,
   "metadata": {
    "scrolled": false
   },
   "outputs": [],
   "source": [
    "#Test A1_1\n",
    "mydir='/home/pkotze/python/SKA-MPI Power measurements/power_test_A1_1/CSV/'\n",
    "\n",
    "event_file=[file for file in glob.glob(mydir + \"97inrush.csv\")]\n",
    "event_file.sort()\n",
    "\n",
    "#event_file.remove('97evt008.csv')\n",
    "\n",
    "print(event_file)\n",
    "for file in event_file:\n",
    "    inrush_plotter(file)"
   ]
  },
  {
   "cell_type": "code",
   "execution_count": null,
   "metadata": {
    "scrolled": false
   },
   "outputs": [],
   "source": [
    "#Test A1_2\n",
    "mydir='/home/pkotze/python/SKA-MPI Power measurements/power_test_A1_2/CSV/'\n",
    "\n",
    "event_file=[file for file in glob.glob(mydir + \"97inrush.csv\")]\n",
    "event_file.sort()\n",
    "\n",
    "#event_file.remove('97evt008.csv')\n",
    "\n",
    "print(event_file)\n",
    "for file in event_file:\n",
    "    inrush_plotter(file)"
   ]
  },
  {
   "cell_type": "markdown",
   "metadata": {},
   "source": [
    "Check timestamps step size to see if data average/interval was changed."
   ]
  }
 ],
 "metadata": {
  "kernelspec": {
   "display_name": "Python 3",
   "language": "python",
   "name": "python3"
  },
  "language_info": {
   "codemirror_mode": {
    "name": "ipython",
    "version": 3
   },
   "file_extension": ".py",
   "mimetype": "text/x-python",
   "name": "python",
   "nbconvert_exporter": "python",
   "pygments_lexer": "ipython3",
   "version": "3.6.9"
  }
 },
 "nbformat": 4,
 "nbformat_minor": 2
}
