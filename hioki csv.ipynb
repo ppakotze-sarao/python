{
 "cells": [
  {
   "cell_type": "code",
   "execution_count": null,
   "metadata": {},
   "outputs": [],
   "source": [
    "#Revised September 2019 - remove plotting\n",
    "import pandas as pd\n",
    "import numpy as np\n",
    "import matplotlib.pyplot as plt\n",
    "import sys\n",
    "#from mpl_toolkits.basemap import Basemap\n",
    "import datetime\n",
    "from scipy import signal\n",
    "\n",
    "import matplotlib.dates as mdates"
   ]
  },
  {
   "cell_type": "code",
   "execution_count": null,
   "metadata": {},
   "outputs": [],
   "source": [
    "%matplotlib inline\n",
    "plt.ion()"
   ]
  },
  {
   "cell_type": "code",
   "execution_count": null,
   "metadata": {
    "scrolled": false
   },
   "outputs": [],
   "source": [
    "#full list\n",
    "log_files=[['/home/pkotze/python/SKA-MPI Power measurements/power_test_A1_1/CSV/97intvl.csv','Initial power check']]\n"
   ]
  },
  {
   "cell_type": "code",
   "execution_count": null,
   "metadata": {
    "scrolled": false
   },
   "outputs": [],
   "source": [
    "for log_file,description in log_files:   #print(log_file)\n",
    "    df=pd.read_csv(log_file,header=1,parse_dates=['Time'])\n",
    "    #sub_range=list(range(3,df.shape[0])) #getting number of entries?  could go less\n",
    "        #print(type(df))\n",
    "    #overview(df,log_file + ' * ' + description)\n",
    "    #OAT(df,log_file + ' * ' + description)\n",
    "    #fuel(df,log_file + ' * ' + description)\n",
    "    #airspeed(df,log_file + ' * ' + description)\n",
    "    \n",
    "    "
   ]
  },
  {
   "cell_type": "code",
   "execution_count": null,
   "metadata": {},
   "outputs": [],
   "source": [
    "df.tail()\n",
    "\n"
   ]
  },
  {
   "cell_type": "code",
   "execution_count": null,
   "metadata": {},
   "outputs": [],
   "source": [
    "df.columns\n"
   ]
  },
  {
   "cell_type": "code",
   "execution_count": null,
   "metadata": {},
   "outputs": [],
   "source": [
    "timestamps=(df['Time'])"
   ]
  },
  {
   "cell_type": "code",
   "execution_count": null,
   "metadata": {},
   "outputs": [],
   "source": [
    "type(timestamps[0])\n"
   ]
  },
  {
   "cell_type": "markdown",
   "metadata": {},
   "source": [
    "Check timestamps step size to see if data average/interval was changed."
   ]
  },
  {
   "cell_type": "code",
   "execution_count": null,
   "metadata": {},
   "outputs": [],
   "source": [
    "timestamps"
   ]
  },
  {
   "cell_type": "code",
   "execution_count": null,
   "metadata": {},
   "outputs": [],
   "source": [
    "#1 - Instantaneous Inrush [VA]\n",
    "#line to neutral voltage\n",
    "maxurms1=np.asarray( df['MaxUrms1'] ).astype(float)\n",
    "maxurms2=np.asarray( df['MaxUrms2'] ).astype(float)\n",
    "maxurms3=np.asarray( df['MaxUrms3'] ).astype(float)\n",
    "maxirms1=np.asarray( df['MaxIrms1'] ).astype(float)\n",
    "maxirms2=np.asarray( df['MaxIrms2'] ).astype(float)\n",
    "maxirms3=np.asarray( df['MaxIrms3'] ).astype(float)\n",
    "\n",
    "maxs1=maxurms1*maxirms1\n",
    "maxs2=maxurms2*maxirms2\n",
    "maxs3=maxurms2*maxirms3\n",
    "\n",
    "#Average P Q S power\n",
    "maxpsum=np.asarray( df['MaxPsum'] ).astype(float) #active?\n",
    "maxqsum=np.asarray( df['MaxQsum'] ).astype(float) #reactive?\n",
    "maxssum=np.asarray( df['MaxSsum'] ).astype(float) #total?\n",
    "\n",
    "#2 - Short term < 5s [W]\n",
    "#3 - Long term > 5s [W]\n",
    "\n",
    "#average PF sum\n",
    "avepfsum=np.asarray( df['AvePFsum'] ).astype(float)\n",
    "\n",
    "#frequency \n",
    "minfreq=np.asarray( df['MinFreq'] ).astype(float)\n",
    "avefreq=np.asarray( df['AveFreq'] ).astype(float)\n",
    "maxfreq=np.asarray( df['MaxFreq'] ).astype(float)\n",
    "\n",
    "#average  rms line currents?\n",
    "aveirms1=np.asarray( df['AveIrms1'] ).astype(float)\n",
    "aveirms2=np.asarray( df['AveIrms2'] ).astype(float)\n",
    "aveirms3=np.asarray( df['AveIrms3'] ).astype(float)\n",
    "aveirms4=np.asarray( df['AveIrms4'] ).astype(float)\n",
    "\n",
    "#Average P Q S power\n",
    "avepsum=np.asarray( df['AvePsum'] ).astype(float) #active?\n",
    "aveqsum=np.asarray( df['AveQsum'] ).astype(float) #reactive?\n",
    "avessum=np.asarray( df['AveSsum'] ).astype(float) #total?\n"
   ]
  },
  {
   "cell_type": "code",
   "execution_count": null,
   "metadata": {},
   "outputs": [],
   "source": [
    "\n",
    "#Plot calculated peak \n",
    "fig,ax = plt.subplots(figsize=(20,15))\n",
    "\n",
    "ax.set(title=\"Basic hioki parameters: =>  \"+log_file, ylabel='Apparent power [VA]', \n",
    "xlabel='Time [s]')\n",
    "ax.plot(timestamps,maxs1)\n",
    "ax.plot(timestamps,maxs2)\n",
    "ax.plot(timestamps,maxs3)\n",
    "ax.plot(timestamps,maxpsum)\n",
    "ax.plot(timestamps,maxqsum)\n",
    "ax.plot(timestamps,maxssum)\n",
    "\n",
    "ymin=-3000\n",
    "ymax=3000\n",
    "ystep=100\n",
    "plt.yticks(range(ymin,ymax,ystep))\n",
    "plt.ylim(ymin,ymax)\n",
    "ax.xaxis.set_major_locator(mdates.SecondLocator(interval=10))\n",
    "ax.xaxis.set_major_formatter(mdates.DateFormatter('%H:%M:%S')) \n",
    "_=plt.xticks(rotation=65)\n",
    "ax.legend(['Phase 1 max S [VA]','Phase 2 max S [VA]','Phase 3 max S [VA]','p','q','s'])\n",
    "ax.grid()\n"
   ]
  },
  {
   "cell_type": "code",
   "execution_count": null,
   "metadata": {},
   "outputs": [],
   "source": [
    "\n",
    "#Plot Basic P Q S power parameters\n",
    "\n",
    "fig,ax = plt.subplots(figsize=(20,15))\n",
    "\n",
    "ax.set(title=\"Basic hioki parameters: =>  \"+log_file, ylabel='AvePMaxSsum [W?]', \n",
    "xlabel='Time [s]')\n",
    "ax.plot(timestamps,avepsum)\n",
    "ax.plot(timestamps,aveqsum)\n",
    "ax.plot(timestamps,avessum)\n",
    "\n",
    "\n",
    "ymin=-3000\n",
    "ymax=3000\n",
    "ystep=100\n",
    "plt.yticks(range(ymin,ymax,ystep))\n",
    "plt.ylim(ymin,ymax)\n",
    "ax.xaxis.set_major_locator(mdates.SecondLocator(interval=10))\n",
    "ax.xaxis.set_major_formatter(mdates.DateFormatter('%H:%M:%S')) \n",
    "_=plt.xticks(rotation=65)\n",
    "ax.legend(['P [W]','Q [VAR]','S [VA]'])\n",
    "ax.grid()\n"
   ]
  },
  {
   "cell_type": "code",
   "execution_count": null,
   "metadata": {},
   "outputs": [],
   "source": [
    "#line to neutral voltage\n",
    "aveirms1=np.asarray( df['AveUrms1'] ).astype(float)\n",
    "aveirms2=np.asarray( df['AveUrms2'] ).astype(float)\n",
    "aveirms3=np.asarray( df['AveUrms3'] ).astype(float)\n",
    "\n",
    "#average PF sum\n",
    "avepfsum=np.asarray( df['AvePFsum'] ).astype(float)\n",
    "\n",
    "#frequency \n",
    "minfreq=np.asarray( df['MinFreq'] ).astype(float)\n",
    "avefreq=np.asarray( df['AveFreq'] ).astype(float)\n",
    "maxfreq=np.asarray( df['MaxFreq'] ).astype(float)\n",
    "\n",
    "#average  rms line currents?\n",
    "aveirms1=np.asarray( df['AveIrms1'] ).astype(float)\n",
    "aveirms2=np.asarray( df['AveIrms2'] ).astype(float)\n",
    "aveirms3=np.asarray( df['AveIrms3'] ).astype(float)\n",
    "aveirms4=np.asarray( df['AveIrms4'] ).astype(float)\n",
    "\n",
    "#Average P Q S power\n",
    "avepsum=np.asarray( df['AvePsum'] ).astype(float) #active?\n",
    "aveqsum=np.asarray( df['AveQsum'] ).astype(float) #reactive?\n",
    "avessum=np.asarray( df['AveSsum'] ).astype(float) #total?\n"
   ]
  },
  {
   "cell_type": "code",
   "execution_count": null,
   "metadata": {
    "scrolled": false
   },
   "outputs": [],
   "source": [
    "\n",
    "\n",
    "fig,ax = plt.subplots(figsize=(20,15))\n",
    "\n",
    "ax.set(title=\"Basic hioki parameters: =>  \"+log_file, ylabel='AvePMaxSsum [W?]', \n",
    "xlabel='Time [s]')\n",
    "ax.plot(timestamps,avepsum)\n",
    "ax.plot(timestamps,aveqsum)\n",
    "ax.plot(timestamps,avessum)\n",
    "\n",
    "\n",
    "ymin=0\n",
    "ymax=3000\n",
    "ystep=100\n",
    "#plt.yticks(range(ymin,ymax,ystep))\n",
    "#plt.ylim(ymin,ymax)\n",
    "ax.xaxis.set_major_locator(mdates.SecondLocator(interval=10))\n",
    "ax.xaxis.set_major_formatter(mdates.DateFormatter('%H:%M:%S')) \n",
    "_=plt.xticks(rotation=65)\n",
    "ax.legend(['P','Q','S'])\n",
    "ax.grid()\n"
   ]
  },
  {
   "cell_type": "code",
   "execution_count": null,
   "metadata": {},
   "outputs": [],
   "source": [
    "#Plot Basic engine parameters\n",
    "\n",
    "fig,ax = plt.subplots(figsize=(20,20))\n",
    "\n",
    "ax.set(title=\"Basic hioki parameters: =>  \"+log_file, ylabel='Ave I RMS', \n",
    "xlabel='Time [s]')\n",
    "ax.plot(timestamps,aveirms1)\n",
    "ax.plot(timestamps,aveirms2)\n",
    "ax.plot(timestamps,aveirms3)\n",
    "ax.plot(timestamps,aveirms4)\n",
    "\n",
    "ax.xaxis.set_major_locator(mdates.SecondLocator(interval=10))\n",
    "ax.xaxis.set_major_formatter(mdates.DateFormatter('%H:%M:%S')) \n",
    "_=plt.xticks(rotation=90)\n",
    "ax.legend(['1','2','3','4'])\n",
    "ax.grid()\n"
   ]
  },
  {
   "cell_type": "code",
   "execution_count": null,
   "metadata": {},
   "outputs": [],
   "source": [
    "#Plot Basic engine parameters\n",
    "\n",
    "fig,ax = plt.subplots(figsize=(20,20))\n",
    "\n",
    "ax.set(title=\"Basic hioki parameters: =>  \"+log_file, ylabel='Ave I RMS', \n",
    "xlabel='Time [s]')\n",
    "ax.plot(timestamps,avepfsum)\n",
    "\n",
    "ax.xaxis.set_major_locator(mdates.SecondLocator(interval=30))\n",
    "ax.xaxis.set_major_formatter(mdates.DateFormatter('%H:%M:%S')) \n",
    "\n",
    "ax.legend(['1','2','3','4'])\n",
    "ax.grid()"
   ]
  },
  {
   "cell_type": "code",
   "execution_count": null,
   "metadata": {},
   "outputs": [],
   "source": [
    "\n",
    "fig,ax = plt.subplots(figsize=(20,20))\n",
    "\n",
    "ax.set(title=\"Basic hioki parameters: =>  \"+log_file, ylabel='AvePMaxSsum [W?]', \n",
    "xlabel='Time [s]')\n",
    "ax.plot(timestamps,minfreq)\n",
    "ax.plot(timestamps,avefreq)\n",
    "ax.plot(timestamps,maxfreq)\n",
    "\n",
    "\n",
    "ymin=0\n",
    "ymax=3000\n",
    "ystep=100\n",
    "#plt.yticks(range(ymin,ymax,ystep))\n",
    "#plt.ylim(ymin,ymax)\n",
    "ax.xaxis.set_major_locator(mdates.SecondLocator(interval=30))\n",
    "ax.xaxis.set_major_formatter(mdates.DateFormatter('%H:%M:%S')) \n",
    "ax.legend(['Min','aVe','Max'])\n",
    "ax.grid()\n"
   ]
  }
 ],
 "metadata": {
  "kernelspec": {
   "display_name": "Python 3",
   "language": "python",
   "name": "python3"
  },
  "language_info": {
   "codemirror_mode": {
    "name": "ipython",
    "version": 3
   },
   "file_extension": ".py",
   "mimetype": "text/x-python",
   "name": "python",
   "nbconvert_exporter": "python",
   "pygments_lexer": "ipython3",
   "version": "3.6.9"
  }
 },
 "nbformat": 4,
 "nbformat_minor": 2
}
