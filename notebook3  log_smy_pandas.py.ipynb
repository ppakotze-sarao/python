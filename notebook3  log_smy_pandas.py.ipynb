{
 "cells": [
  {
   "cell_type": "code",
   "execution_count": null,
   "metadata": {},
   "outputs": [],
   "source": [
    "#Extensive updates 2019/6/12\n",
    "# Create yearly summary by type - display\n",
    "# Create yearly summary by type - write to csv output.csv in format to paste into electronic logbook\n",
    "# Future improvements: summarise simulator time and Multi-engine time"
   ]
  },
  {
   "cell_type": "code",
   "execution_count": null,
   "metadata": {},
   "outputs": [],
   "source": [
    "#Yearly summary:\n",
    "start_date='2018-12-12'\n",
    "end_date='2019-12-12'"
   ]
  },
  {
   "cell_type": "code",
   "execution_count": null,
   "metadata": {},
   "outputs": [],
   "source": [
    "import pandas as pd\n",
    "import numpy as np\n",
    "import matplotlib.pyplot as plt\n"
   ]
  },
  {
   "cell_type": "code",
   "execution_count": null,
   "metadata": {},
   "outputs": [],
   "source": [
    "logbook_file='/home/pkotze/logbook.csv'\n",
    "df=pd.read_csv(logbook_file)"
   ]
  },
  {
   "cell_type": "code",
   "execution_count": null,
   "metadata": {},
   "outputs": [],
   "source": [
    "headings=['Date','Type','Reg','Pilot','Details',\n",
    "          'It_Nav','It_Pla','IT_Act','IT_FSTD',\n",
    "          'In_ME','In_SE','In_Sim','FSTD',\n",
    "          'SED_Dual','SED_Pic','SED_Pus','SED_Cop',\n",
    "          'SEN_Dual','SEN_Pic','SEN_Pus','SEN_Cop',\n",
    "          'MED_Dual','MED_Pic','MED_Pus','MED_Cop',\n",
    "          'MEN_Dual','MEN_Pic','MEN_Pus','MEN_Cop',\n",
    "          'TOL_Day','TOL_Nig','Remarks']\n",
    "\n",
    "#define summary header needed\n",
    "#summary_header=headings[1:2] + headings[7:-1]  \n",
    "#summary header without type as column\n",
    "summary_header=headings[7:-1]\n",
    "\n",
    "df = pd.read_csv('/home/pkotze/logbook.csv', \n",
    "                 names = headings, header=None, usecols=range(32), \n",
    "                 parse_dates=['Date'],index_col=['Date'])\n"
   ]
  },
  {
   "cell_type": "code",
   "execution_count": null,
   "metadata": {},
   "outputs": [],
   "source": [
    "#define function to add up SINGLE ENGINE totals day and night in a dataframe\n",
    "def totals(dff):\n",
    "    t_pic=dff['SED_Pic'].sum()+dff['SEN_Pic'].sum()\n",
    "    t_dual=dff['SED_Dual'].sum()+dff['SEN_Dual'].sum()\n",
    "    total=dff['SED_Dual'].sum()+dff['SED_Pic'].sum()+dff['SEN_Dual'].sum()+dff['SEN_Pic'].sum()\n",
    "    return(t_pic, t_dual, total)\n"
   ]
  },
  {
   "cell_type": "code",
   "execution_count": null,
   "metadata": {},
   "outputs": [],
   "source": [
    "#define function to add up SINGLE ENGINE totals day and night in a dataframe\n",
    "def totals_page(dff):\n",
    "    t_pic_d=dff['SED_Pic'].sum()\n",
    "    t_pic_n=dff['SEN_Pic'].sum()\n",
    "    t_dual_d=dff['SED_Dual'].sum()\n",
    "    t_dual_n=dff['SEN_Dual'].sum()\n",
    "    total=dff['SED_Dual'].sum()+dff['SED_Pic'].sum()+dff['SEN_Dual'].sum()+dff['SEN_Pic'].sum()\n",
    "    print(\"*SE pic Day: %3.1f *SE dual Day: %3.1f *SE pic night: %3.1f *SE dual nighty: %3.1f *Totals:  %3.1f\"\n",
    "          % (t_pic_d, t_dual_d, t_pic_n, t_dual_n, total))\n"
   ]
  },
  {
   "cell_type": "code",
   "execution_count": null,
   "metadata": {},
   "outputs": [],
   "source": [
    "print(df.sum())\n",
    "print(\"\\n **** \\n\")\n",
    "print(\"SE_PIC: %3.1f  * SE_DUAL: %3.1f  * SE_TOTAL: %3.1f\" % totals(df) )\n",
    "\n",
    "totals_page(df)"
   ]
  },
  {
   "cell_type": "code",
   "execution_count": null,
   "metadata": {
    "scrolled": true
   },
   "outputs": [],
   "source": [
    "#Output summary by registration\n",
    "\n",
    "Uregs=df['Reg'].unique()\n",
    "print(Uregs)\n",
    "\n",
    "#print(np.size(Types))\n",
    "for reg in Uregs: \n",
    "    regdf=df[df['Reg']==reg]\n",
    "    print(reg)\n",
    "    print(\"Pic: %3.1f \\t + Dual: %3.1f \\t = Total: %3.1f\" %  totals(regdf) )\n",
    "    "
   ]
  },
  {
   "cell_type": "code",
   "execution_count": null,
   "metadata": {
    "scrolled": false
   },
   "outputs": [],
   "source": [
    "#Output summary by type\n",
    "\n",
    "Types=df['Type'].unique()\n",
    "print(Types)\n",
    "\n",
    "#print(np.size(Types))\n",
    "for ac in Types: \n",
    "    acdf=df[df['Type']==ac]\n",
    "    print(ac)\n",
    "    print(\"Pic: %3.1f \\t + Dual: %3.1f \\t = Total: %3.1f\" %  totals(acdf) )\n"
   ]
  },
  {
   "cell_type": "code",
   "execution_count": null,
   "metadata": {},
   "outputs": [],
   "source": [
    "#Ouput summary by type for time period as needed for logbook summary\n",
    "#Yearly summary:\n",
    "start_date='2019-02-10'\n",
    "end_date='2020-02-10'\n",
    "\n",
    "#Yearly summary:\n",
    "tdf=df.loc[start_date:end_date]\n",
    "\n",
    "#The types flown during this time period\n",
    "Types=tdf['Type'].unique()\n",
    "print(Types)\n",
    "\n",
    "#Hours per type over the date range.\n",
    "#print(np.size(Types))\n",
    "for ac in Types: \n",
    "    acdf=tdf[tdf['Type']==ac]\n",
    "    print(ac)\n",
    "    print(\"Pic: %3.1f \\t + Dual: %3.1f \\t = Total: %3.1f\" %  totals(acdf) )\n",
    "    \n",
    "#And for the year\n",
    "print(\"PIC: %3.1f  * DUAL: %3.1f  * TOTAL: %3.1f\" % totals(tdf) )\n"
   ]
  },
  {
   "cell_type": "code",
   "execution_count": null,
   "metadata": {},
   "outputs": [],
   "source": [
    "#Ouput summary by type for time period as needed for logbook summary AND write to CSV\n",
    "\n",
    "#initialiSe t_list and new data frame for logbook summary\n",
    "sdf=pd.DataFrame(columns=summary_header,index=Types)\n",
    "\n",
    "\n",
    "#Yearly summary:\n",
    "tdf=df.loc[start_date:end_date]\n",
    "#The unique types flown during this time period\n",
    "Types=tdf['Type'].unique()\n",
    "\n",
    "#Hours per type over the date range.\n",
    "#print(np.size(Types))\n",
    "for ac in Types: \n",
    "    #in this time period get entries for one type at a time\n",
    "    acdf=tdf[tdf['Type']==ac]  \n",
    "    print(ac)\n",
    "    print(\"Pic: %3.1f \\t + Dual: %3.1f \\t = Total: %3.1f\" %  totals(acdf) )\n",
    "    t_list=[acdf[head].sum() for head in summary_header]\n",
    "    sdf.at[ac,summary_header]=t_list\n",
    "\n",
    "\n",
    "#And for the year\n",
    "print(\"\\n PIC: %3.1f  * DUAL: %3.1f  * TOTAL: %3.1f\" % totals(tdf) )\n",
    "\n",
    "sdf.head()\n",
    "sdf.to_csv('output.csv')\n",
    "#sdf.to_csv('output.csv', columns = summary_header)\n",
    "\n",
    "sdf.head()"
   ]
  },
  {
   "cell_type": "code",
   "execution_count": null,
   "metadata": {},
   "outputs": [],
   "source": [
    "#Ouput summary by type for time period as needed for logbook summary AND write to CSV\n",
    "\n",
    "#initialiSe t_list and new data frame for logbook summary\n",
    "asdf=pd.DataFrame(columns=summary_header,index=Types)\n",
    "\n",
    "#The unique types flown \n",
    "Types=df['Type'].unique()\n",
    "\n",
    "#Hours per type over the date range.\n",
    "#print(np.size(Types))\n",
    "for aac in Types: \n",
    "    #in this time period get entries for one type at a time\n",
    "    aacdf=df[df['Type']==aac]  \n",
    "    print(aac)\n",
    "    print(\"Pic: %3.1f \\t + Dual: %3.1f \\t = Total: %3.1f\" %  totals(aacdf) )\n",
    "    a_list=[aacdf[head].sum() for head in summary_header]\n",
    "    asdf.at[aac,summary_header]=a_list\n",
    "\n",
    "\n",
    "#And for the year\n",
    "print(\"\\n PIC: %3.1f  * DUAL: %3.1f  * TOTAL: %3.1f\" % totals(df) )\n",
    "\n",
    "asdf.head()\n",
    "asdf.to_csv('all_output.csv')\n",
    "#sdf.to_csv('output.csv', columns = summary_header)\n",
    "\n",
    "asdf.head()"
   ]
  },
  {
   "cell_type": "code",
   "execution_count": null,
   "metadata": {},
   "outputs": [],
   "source": [
    "#ugly way to get total tailwheel time\n",
    "\n",
    "#Ouput summary by type for time period as needed for logbook summary AND write to CSV\n",
    "\n",
    "#initialiSe t_list and new data frame for logbook summary\n",
    "asdf=pd.DataFrame(columns=summary_header,index=Types)\n",
    "\n",
    "#The unique types flown \n",
    "Types=df['Type'].unique()\n",
    "subtypes=['X269','PA J3C']\n",
    "#Hours per type over the date range.\n",
    "#print(np.size(Types))\n",
    "for aac in subtypes: \n",
    "    #in this time period get entries for one type at a time\n",
    "    aacdf=df[df['Type']==aac]  \n",
    "    print(aac)\n",
    "    print(\"Pic: %3.1f \\t + Dual: %3.1f \\t = Total: %3.1f\" %  totals(aacdf) )\n",
    "    a_list=[aacdf[head].sum() for head in summary_header]\n",
    "    asdf.at[aac,summary_header]=a_list\n",
    "\n",
    "\n",
    "#And for the year\n",
    "print(\"\\n PIC: %3.1f  * DUAL: %3.1f  * TOTAL: %3.1f\" % totals(df) )\n",
    "\n",
    "#Output summary by registration\n",
    "\n",
    "subreg=['ZU-WAB']\n",
    "#print(np.size(Types))\n",
    "for reg in subreg: \n",
    "    regdf=df[df['Reg']==reg]\n",
    "    print(reg)\n",
    "    print(\"Pic: %3.1f \\t + Dual: %3.1f \\t = Total: %3.1f\" %  totals(regdf) )\n",
    "\n",
    "print(46.9+4+37.2)"
   ]
  }
 ],
 "metadata": {
  "kernelspec": {
   "display_name": "Python 3",
   "language": "python",
   "name": "python3"
  },
  "language_info": {
   "codemirror_mode": {
    "name": "ipython",
    "version": 3
   },
   "file_extension": ".py",
   "mimetype": "text/x-python",
   "name": "python",
   "nbconvert_exporter": "python",
   "pygments_lexer": "ipython3",
   "version": "3.6.9"
  }
 },
 "nbformat": 4,
 "nbformat_minor": 2
}
